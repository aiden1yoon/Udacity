{
 "cells": [
  {
   "cell_type": "markdown",
   "metadata": {},
   "source": [
    "# Self-Driving Car Engineer Nanodegree\n",
    "\n",
    "## Deep Learning\n",
    "\n",
    "## Project: Build a Traffic Sign Recognition Classifier\n",
    "\n",
    "In this notebook, a template is provided for you to implement your functionality in stages, which is required to successfully complete this project. If additional code is required that cannot be included in the notebook, be sure that the Python code is successfully imported and included in your submission if necessary. \n",
    "\n",
    "> **Note**: Once you have completed all of the code implementations, you need to finalize your work by exporting the iPython Notebook as an HTML document. Before exporting the notebook to html, all of the code cells need to have been run so that reviewers can see the final implementation and output. You can then export the notebook by using the menu above and navigating to  \\n\",\n",
    "    \"**File -> Download as -> HTML (.html)**. Include the finished document along with this notebook as your submission. \n",
    "\n",
    "In addition to implementing code, there is a writeup to complete. The writeup should be completed in a separate file, which can be either a markdown file or a pdf document. There is a [write up template](https://github.com/udacity/CarND-Traffic-Sign-Classifier-Project/blob/master/writeup_template.md) that can be used to guide the writing process. Completing the code template and writeup template will cover all of the [rubric points](https://review.udacity.com/#!/rubrics/481/view) for this project.\n",
    "\n",
    "The [rubric](https://review.udacity.com/#!/rubrics/481/view) contains \"Stand Out Suggestions\" for enhancing the project beyond the minimum requirements. The stand out suggestions are optional. If you decide to pursue the \"stand out suggestions\", you can include the code in this Ipython notebook and also discuss the results in the writeup file.\n",
    "\n",
    "\n",
    ">**Note:** Code and Markdown cells can be executed using the **Shift + Enter** keyboard shortcut. In addition, Markdown cells can be edited by typically double-clicking the cell to enter edit mode."
   ]
  },
  {
   "cell_type": "markdown",
   "metadata": {},
   "source": [
    "---\n",
    "## Step 0: Load The Data"
   ]
  },
  {
   "cell_type": "code",
   "execution_count": 1,
   "metadata": {},
   "outputs": [],
   "source": [
    "# Load pickled data\n",
    "import pickle\n",
    "\n",
    "# TODO: Fill this in based on where you saved the training and testing data\n",
    "\n",
    "training_file = '../data/train.p'\n",
    "validation_file= '../data/valid.p'\n",
    "testing_file = '../data/test.p'\n",
    "\n",
    "with open(training_file, mode='rb') as f:\n",
    "    train = pickle.load(f)\n",
    "with open(validation_file, mode='rb') as f:\n",
    "    valid = pickle.load(f)\n",
    "with open(testing_file, mode='rb') as f:\n",
    "    test = pickle.load(f)\n",
    "    \n",
    "X_train, y_train = train['features'], train['labels']\n",
    "X_valid, y_valid = valid['features'], valid['labels']\n",
    "X_test, y_test = test['features'], test['labels']"
   ]
  },
  {
   "cell_type": "markdown",
   "metadata": {},
   "source": [
    "---\n",
    "\n",
    "## Step 1: Dataset Summary & Exploration\n",
    "\n",
    "The pickled data is a dictionary with 4 key/value pairs:\n",
    "\n",
    "- `'features'` is a 4D array containing raw pixel data of the traffic sign images, (num examples, width, height, channels).\n",
    "- `'labels'` is a 1D array containing the label/class id of the traffic sign. The file `signnames.csv` contains id -> name mappings for each id.\n",
    "- `'sizes'` is a list containing tuples, (width, height) representing the original width and height the image.\n",
    "- `'coords'` is a list containing tuples, (x1, y1, x2, y2) representing coordinates of a bounding box around the sign in the image. **THESE COORDINATES ASSUME THE ORIGINAL IMAGE. THE PICKLED DATA CONTAINS RESIZED VERSIONS (32 by 32) OF THESE IMAGES**\n",
    "\n",
    "Complete the basic data summary below. Use python, numpy and/or pandas methods to calculate the data summary rather than hard coding the results. For example, the [pandas shape method](http://pandas.pydata.org/pandas-docs/stable/generated/pandas.DataFrame.shape.html) might be useful for calculating some of the summary results. "
   ]
  },
  {
   "cell_type": "markdown",
   "metadata": {},
   "source": [
    "### Provide a Basic Summary of the Data Set Using Python, Numpy and/or Pandas"
   ]
  },
  {
   "cell_type": "code",
   "execution_count": 2,
   "metadata": {},
   "outputs": [
    {
     "name": "stdout",
     "output_type": "stream",
     "text": [
      "dict_keys(['coords', 'labels', 'features', 'sizes'])\n"
     ]
    },
    {
     "data": {
      "text/plain": [
       "(34799, 32, 32, 3)"
      ]
     },
     "execution_count": 2,
     "metadata": {},
     "output_type": "execute_result"
    }
   ],
   "source": [
    "import pandas as pd\n",
    "import numpy as np\n",
    "\n",
    "train_data = pd.read_pickle(training_file)\n",
    "print(train_data.keys())\n",
    "train_data['features'].shape"
   ]
  },
  {
   "cell_type": "code",
   "execution_count": 3,
   "metadata": {},
   "outputs": [
    {
     "name": "stdout",
     "output_type": "stream",
     "text": [
      "Number of training examples = 34799\n",
      "Number of testing examples = 12630\n",
      "Image data shape = (32, 32, 3)\n",
      "Number of classes = 43\n"
     ]
    }
   ],
   "source": [
    "### Replace each question mark with the appropriate value. \n",
    "### Use python, pandas or numpy methods rather than hard coding the results\n",
    "\n",
    "# TODO: Number of training examples\n",
    "train_data = pd.read_pickle(training_file)\n",
    "n_train = train_data['labels'].shape[0]\n",
    "\n",
    "# TODO: Number of validation examples\n",
    "validation_data = pd.read_pickle(validation_file)\n",
    "n_validation = validation_data['labels'].shape[0]\n",
    "\n",
    "# TODO: Number of testing examples.\n",
    "test_data = pd.read_pickle(testing_file)\n",
    "n_test = test_data['labels'].shape[0]\n",
    "\n",
    "# TODO: What's the shape of an traffic sign image?\n",
    "image_shape = train_data['features'].shape[1:]\n",
    "\n",
    "# TODO: How many unique classes/labels there are in the dataset.\n",
    "n_classes = np.unique(train_data['labels']).shape[0]\n",
    "\n",
    "print(\"Number of training examples =\", n_train)\n",
    "print(\"Number of testing examples =\", n_test)\n",
    "print(\"Image data shape =\", image_shape)\n",
    "print(\"Number of classes =\", n_classes)"
   ]
  },
  {
   "cell_type": "markdown",
   "metadata": {},
   "source": [
    "### Include an exploratory visualization of the dataset"
   ]
  },
  {
   "cell_type": "markdown",
   "metadata": {},
   "source": [
    "Visualize the German Traffic Signs Dataset using the pickled file(s). This is open ended, suggestions include: plotting traffic sign images, plotting the count of each sign, etc. \n",
    "\n",
    "The [Matplotlib](http://matplotlib.org/) [examples](http://matplotlib.org/examples/index.html) and [gallery](http://matplotlib.org/gallery.html) pages are a great resource for doing visualizations in Python.\n",
    "\n",
    "**NOTE:** It's recommended you start with something simple first. If you wish to do more, come back to it after you've completed the rest of the sections. It can be interesting to look at the distribution of classes in the training, validation and test set. Is the distribution the same? Are there more examples of some classes than others?"
   ]
  },
  {
   "cell_type": "code",
   "execution_count": 4,
   "metadata": {},
   "outputs": [],
   "source": [
    "### Data exploration visualization code goes here.\n",
    "### Feel free to use as many code cells as needed.\n",
    "import matplotlib.pyplot as plt\n",
    "# Visualizations will be shown in the notebook.\n",
    "%matplotlib inline"
   ]
  },
  {
   "cell_type": "code",
   "execution_count": 5,
   "metadata": {},
   "outputs": [
    {
     "data": {
      "text/plain": [
       "<matplotlib.image.AxesImage at 0x7f97199469e8>"
      ]
     },
     "execution_count": 5,
     "metadata": {},
     "output_type": "execute_result"
    },
    {
     "data": {
      "image/png": "[encoded data removed]",
      "text/plain": [
       "<matplotlib.figure.Figure at 0x7f97199ee1d0>"
      ]
     },
     "metadata": {
      "needs_background": "light"
     },
     "output_type": "display_data"
    }
   ],
   "source": [
    "plt.imshow(train_data['features'][22222])"
   ]
  },
  {
   "cell_type": "code",
   "execution_count": 6,
   "metadata": {},
   "outputs": [
    {
     "name": "stdout",
     "output_type": "stream",
     "text": [
      "number of different signs: 43\n"
     ]
    }
   ],
   "source": [
    "num_signs = np.unique(train_data['labels'])\n",
    "print('number of different signs:', len(num_signs))"
   ]
  },
  {
   "cell_type": "code",
   "execution_count": 7,
   "metadata": {},
   "outputs": [],
   "source": [
    "labels_df = pd.DataFrame(train_data['labels'])\n",
    "labels_df = pd.DataFrame(labels_df[0].value_counts()).sort_index().reset_index().rename(columns={'index':'sign number', 0:'count'})"
   ]
  },
  {
   "cell_type": "code",
   "execution_count": 8,
   "metadata": {
    "scrolled": true
   },
   "outputs": [
    {
     "data": {
      "text/plain": [
       "<matplotlib.axes._subplots.AxesSubplot at 0x7f9719915d68>"
      ]
     },
     "execution_count": 8,
     "metadata": {},
     "output_type": "execute_result"
    },
    {
     "data": {
      "image/png": "[encoded data removed]",
      "text/plain": [
       "<matplotlib.figure.Figure at 0x7f9719997048>"
      ]
     },
     "metadata": {
      "needs_background": "light"
     },
     "output_type": "display_data"
    }
   ],
   "source": [
    "labels_df.plot.bar(x='sign number', y='count')\n",
    "# shows that not the number of sign data is evenly distributed."
   ]
  },
  {
   "cell_type": "code",
   "execution_count": null,
   "metadata": {},
   "outputs": [],
   "source": []
  },
  {
   "cell_type": "markdown",
   "metadata": {},
   "source": [
    "----\n",
    "\n",
    "## Step 2: Design and Test a Model Architecture\n",
    "\n",
    "Design and implement a deep learning model that learns to recognize traffic signs. Train and test your model on the [German Traffic Sign Dataset](http://benchmark.ini.rub.de/?section=gtsrb&subsection=dataset).\n",
    "\n",
    "The LeNet-5 implementation shown in the [classroom](https://classroom.udacity.com/nanodegrees/nd013/parts/fbf77062-5703-404e-b60c-95b78b2f3f9e/modules/6df7ae49-c61c-4bb2-a23e-6527e69209ec/lessons/601ae704-1035-4287-8b11-e2c2716217ad/concepts/d4aca031-508f-4e0b-b493-e7b706120f81) at the end of the CNN lesson is a solid starting point. You'll have to change the number of classes and possibly the preprocessing, but aside from that it's plug and play! \n",
    "\n",
    "With the LeNet-5 solution from the lecture, you should expect a validation set accuracy of about 0.89. To meet specifications, the validation set accuracy will need to be at least 0.93. It is possible to get an even higher accuracy, but 0.93 is the minimum for a successful project submission. \n",
    "\n",
    "There are various aspects to consider when thinking about this problem:\n",
    "\n",
    "- Neural network architecture (is the network over or underfitting?)\n",
    "- Play around preprocessing techniques (normalization, rgb to grayscale, etc)\n",
    "- Number of examples per label (some have more than others).\n",
    "- Generate fake data.\n",
    "\n",
    "Here is an example of a [published baseline model on this problem](http://yann.lecun.com/exdb/publis/pdf/sermanet-ijcnn-11.pdf). It's not required to be familiar with the approach used in the paper but, it's good practice to try to read papers like these."
   ]
  },
  {
   "cell_type": "markdown",
   "metadata": {},
   "source": [
    "### Pre-process the Data Set (normalization, grayscale, etc.)"
   ]
  },
  {
   "cell_type": "markdown",
   "metadata": {},
   "source": [
    "Minimally, the image data should be normalized so that the data has mean zero and equal variance. For image data, `(pixel - 128)/ 128` is a quick way to approximately normalize the data and can be used in this project. \n",
    "\n",
    "Other pre-processing steps are optional. You can try different techniques to see if it improves performance. \n",
    "\n",
    "Use the code cell (or multiple code cells, if necessary) to implement the first step of your project."
   ]
  },
  {
   "cell_type": "code",
   "execution_count": 9,
   "metadata": {},
   "outputs": [],
   "source": [
    "### Preprocess the data here. It is required to normalize the data. Other preprocessing steps could include \n",
    "### converting to grayscale, etc.\n",
    "### Feel free to use as many code cells as needed."
   ]
  },
  {
   "cell_type": "markdown",
   "metadata": {},
   "source": [
    "#### gray and normalized image"
   ]
  },
  {
   "cell_type": "code",
   "execution_count": 10,
   "metadata": {},
   "outputs": [],
   "source": [
    "gry_X_train = X_train.mean(axis=3, keepdims=True)\n",
    "gry_X_valid = X_valid.mean(axis=3, keepdims=True)\n",
    "gry_X_test = X_test.mean(axis=3, keepdims=True)\n"
   ]
  },
  {
   "cell_type": "code",
   "execution_count": 11,
   "metadata": {},
   "outputs": [],
   "source": [
    "normalized_X_train = (gry_X_train - 128.0) / 128\n",
    "normalized_X_valid = (gry_X_valid - 128.0) / 128\n",
    "normalized_X_test = (gry_X_test - 128.0) / 128"
   ]
  },
  {
   "cell_type": "code",
   "execution_count": 12,
   "metadata": {},
   "outputs": [
    {
     "data": {
      "text/plain": [
       "(32, 32, 1)"
      ]
     },
     "execution_count": 12,
     "metadata": {},
     "output_type": "execute_result"
    }
   ],
   "source": [
    "normalized_X_train[222].shape"
   ]
  },
  {
   "cell_type": "code",
   "execution_count": 13,
   "metadata": {},
   "outputs": [
    {
     "data": {
      "text/plain": [
       "<matplotlib.image.AxesImage at 0x7f9715233ef0>"
      ]
     },
     "execution_count": 13,
     "metadata": {},
     "output_type": "execute_result"
    },
    {
     "data": {
      "image/png": "[encoded data removed]",
      "text/plain": [
       "<matplotlib.figure.Figure at 0x7f971531c9b0>"
      ]
     },
     "metadata": {
      "needs_background": "light"
     },
     "output_type": "display_data"
    }
   ],
   "source": [
    "plt.imshow(normalized_X_train[222].squeeze(), cmap='gray')"
   ]
  },
  {
   "cell_type": "markdown",
   "metadata": {},
   "source": [
    "#### add more image data by augmenting them"
   ]
  },
  {
   "cell_type": "code",
   "execution_count": 14,
   "metadata": {},
   "outputs": [],
   "source": [
    "import random\n",
    "import cv2\n",
    "import time"
   ]
  },
  {
   "cell_type": "code",
   "execution_count": 15,
   "metadata": {},
   "outputs": [],
   "source": [
    "def random_translate(img):\n",
    "    rnd_x, rnd_y = np.random.randint(-2,2,2)\n",
    "    \n",
    "    row, col = img.shape[0], img.shape[1]\n",
    "    \n",
    "    M = np.float32([[1,0,rnd_x], [0,1,rnd_y]])\n",
    "    dst = cv2.warpAffine(img, M, (col,row))\n",
    "    dst = dst[:,:,np.newaxis]\n",
    "    return dst"
   ]
  },
  {
   "cell_type": "code",
   "execution_count": 16,
   "metadata": {},
   "outputs": [],
   "source": [
    "test = normalized_X_train[222]"
   ]
  },
  {
   "cell_type": "code",
   "execution_count": 17,
   "metadata": {},
   "outputs": [
    {
     "data": {
      "text/plain": [
       "<matplotlib.image.AxesImage at 0x7f9708c663c8>"
      ]
     },
     "execution_count": 17,
     "metadata": {},
     "output_type": "execute_result"
    },
    {
     "data": {
      "image/png": "[encoded data removed]",
      "text/plain": [
       "<matplotlib.figure.Figure at 0x7f9708ca4cf8>"
      ]
     },
     "metadata": {
      "needs_background": "light"
     },
     "output_type": "display_data"
    }
   ],
   "source": [
    "plt.imshow(random_translate(test).squeeze())"
   ]
  },
  {
   "cell_type": "code",
   "execution_count": 18,
   "metadata": {},
   "outputs": [],
   "source": [
    "def random_rotation(img):\n",
    "    rnd_theta = np.random.randint(-15,15,1)\n",
    "    \n",
    "    row, col = img.shape[0], img.shape[1]\n",
    "    plt.imshow(img.squeeze())\n",
    "    M = cv2.getRotationMatrix2D((col/2,row/2), rnd_theta, 1)\n",
    "    dst = cv2.warpAffine(img, M, (col, row))\n",
    "    return dst"
   ]
  },
  {
   "cell_type": "code",
   "execution_count": 19,
   "metadata": {},
   "outputs": [
    {
     "data": {
      "text/plain": [
       "<matplotlib.image.AxesImage at 0x7f9708bc5b70>"
      ]
     },
     "execution_count": 19,
     "metadata": {},
     "output_type": "execute_result"
    },
    {
     "data": {
      "image/png": "[encoded data removed]",
      "text/plain": [
       "<matplotlib.figure.Figure at 0x7f9708cad828>"
      ]
     },
     "metadata": {
      "needs_background": "light"
     },
     "output_type": "display_data"
    }
   ],
   "source": [
    "plt.imshow(random_rotation(test).squeeze())"
   ]
  },
  {
   "cell_type": "code",
   "execution_count": 20,
   "metadata": {},
   "outputs": [
    {
     "data": {
      "text/plain": [
       "True"
      ]
     },
     "execution_count": 20,
     "metadata": {},
     "output_type": "execute_result"
    }
   ],
   "source": [
    "test = []\n",
    "\n",
    "len(test) == 0"
   ]
  },
  {
   "cell_type": "code",
   "execution_count": 21,
   "metadata": {},
   "outputs": [],
   "source": [
    "# need to append back to X_data and y_data\n",
    "# creates largest_5_mean*0.6 - len(data of sign number)\n",
    "def augment_images(images_dict, largest_5_mean):\n",
    "    \n",
    "    goal = np.floor(largest_5_mean * 0.6)\n",
    "    augmented_dict = {}\n",
    "    for i in images_dict:\n",
    "        augmented_images = []\n",
    "        \n",
    "        for _ in range((goal - len(images_dict[i])).astype(int) ):\n",
    "            if len(images_dict[i]) == 0:\n",
    "                break\n",
    "            \n",
    "            img = random.choice(images_dict[i][:-1])\n",
    "            \n",
    "            augmented_img = random_rotation(img)\n",
    "            augmented_img = random_translate(augmented_img)\n",
    "            \n",
    "            augmented_images.append(augmented_img)\n",
    "\n",
    "        augmented_dict[i] = augmented_images\n",
    "\n",
    "    return augmented_dict"
   ]
  },
  {
   "cell_type": "code",
   "execution_count": 22,
   "metadata": {},
   "outputs": [],
   "source": [
    "train_df = pd.DataFrame(pd.DataFrame(y_train)[0].value_counts()).sort_index().reset_index().rename(columns={'index':'sign number', 0:'count'})\n",
    "train_largest_5 = train_df['count'].nlargest(5)\n",
    "train_largest_5_mean = np.floor(train_largest_5.mean())\n",
    "\n",
    "valid_df = pd.DataFrame(pd.DataFrame(y_valid)[0].value_counts()).sort_index().reset_index().rename(columns={'index':'sign number', 0:'count'})\n",
    "valid_largest_5 = valid_df['count'].nlargest(5)\n",
    "valid_largest_5_mean = np.floor(valid_largest_5.mean())\n",
    "\n",
    "test_df = pd.DataFrame(pd.DataFrame(y_test)[0].value_counts()).sort_index().reset_index().rename(columns={'index':'sign number', 0:'count'})\n",
    "test_largest_5 = test_df['count'].nlargest(5)\n",
    "test_largest_5_mean = np.floor(test_largest_5.mean())\n"
   ]
  },
  {
   "cell_type": "code",
   "execution_count": 23,
   "metadata": {},
   "outputs": [],
   "source": [
    "train_less_than_largestMean_dict = {}\n",
    "for i in np.unique(y_train):\n",
    "    train_less_than_largestMean_dict[i] = []\n",
    "\n",
    "valid_less_than_largestMean_dict = {}\n",
    "for i in np.unique(y_valid):\n",
    "    valid_less_than_largestMean_dict[i] = []\n",
    "    \n",
    "test_less_than_largestMean_dict = {}\n",
    "for i in np.unique(y_test):\n",
    "    test_less_than_largestMean_dict[i] = []\n",
    "    \n"
   ]
  },
  {
   "cell_type": "code",
   "execution_count": 24,
   "metadata": {
    "scrolled": true
   },
   "outputs": [],
   "source": [
    "\n",
    "for sign_number, count in zip(train_df[train_df['count'] < (train_largest_5_mean * 0.6)]['sign number'], train_df[train_df['count'] < (train_largest_5_mean * 0.6)]['count']):\n",
    "#     print(sign_number, count)\n",
    "    for x, y in zip(normalized_X_train, y_train):\n",
    "        if y == sign_number:\n",
    "            train_less_than_largestMean_dict[sign_number].append(x)\n",
    "    \n",
    "    train_less_than_largestMean_dict[sign_number].append(count)\n",
    "            \n",
    "\n",
    "for sign_number, count in zip(valid_df[valid_df['count'] < (valid_largest_5_mean * 0.6)]['sign number'], valid_df[valid_df['count'] < (valid_largest_5_mean * 0.6)]['count']):\n",
    "#     print(sign_number, count)\n",
    "    for x, y in zip(normalized_X_valid, y_valid):\n",
    "        if y == sign_number:\n",
    "            valid_less_than_largestMean_dict[sign_number].append(x)\n",
    "            \n",
    "    valid_less_than_largestMean_dict[sign_number].append(count)\n",
    "            \n",
    "for sign_number, count in zip(test_df[test_df['count'] < (test_largest_5_mean * 0.6)]['sign number'], test_df[test_df['count'] < (test_largest_5_mean * 0.6)]['count']):\n",
    "#     print(sign_number, count)\n",
    "    for x, y in zip(normalized_X_test, y_test):\n",
    "        if y == sign_number:\n",
    "            test_less_than_largestMean_dict[sign_number].append(x) \n",
    "            \n",
    "    test_less_than_largestMean_dict[sign_number].append(count)\n",
    "          "
   ]
  },
  {
   "cell_type": "code",
   "execution_count": 25,
   "metadata": {
    "scrolled": true
   },
   "outputs": [
    {
     "data": {
      "image/png": "[encoded data removed]",
      "text/plain": [
       "<matplotlib.figure.Figure at 0x7f9708c510b8>"
      ]
     },
     "metadata": {
      "needs_background": "light"
     },
     "output_type": "display_data"
    }
   ],
   "source": [
    "train_augmented_images_dict = augment_images(train_less_than_largestMean_dict, train_largest_5_mean)"
   ]
  },
  {
   "cell_type": "code",
   "execution_count": 26,
   "metadata": {
    "scrolled": false
   },
   "outputs": [
    {
     "data": {
      "image/png": "[encoded data removed]",
      "text/plain": [
       "<matplotlib.figure.Figure at 0x7f96c2317358>"
      ]
     },
     "metadata": {
      "needs_background": "light"
     },
     "output_type": "display_data"
    }
   ],
   "source": [
    "valid_augmented_images_dict = augment_images(valid_less_than_largestMean_dict, valid_largest_5_mean)"
   ]
  },
  {
   "cell_type": "code",
   "execution_count": 27,
   "metadata": {
    "scrolled": true
   },
   "outputs": [
    {
     "data": {
      "image/png": "[encoded data removed]",
      "text/plain": [
       "<matplotlib.figure.Figure at 0x7f96c11d7e10>"
      ]
     },
     "metadata": {
      "needs_background": "light"
     },
     "output_type": "display_data"
    }
   ],
   "source": [
    "test_augmented_images_dict = augment_images(test_less_than_largestMean_dict, test_largest_5_mean)"
   ]
  },
  {
   "cell_type": "code",
   "execution_count": 71,
   "metadata": {
    "scrolled": true
   },
   "outputs": [
    {
     "name": "stdout",
     "output_type": "stream",
     "text": [
      "Starting 0 merge...\n",
      "on image 200 from sign number : 0\n",
      "have left 778 images to go...\n",
      "0.20449897750511248% completed...\n",
      "on image 400 from sign number : 0\n",
      "have left 578 images to go...\n",
      "0.40899795501022496% completed...\n",
      "on image 600 from sign number : 0\n",
      "have left 378 images to go...\n",
      "0.6134969325153374% completed...\n",
      "on image 800 from sign number : 0\n",
      "have left 178 images to go...\n",
      "0.8179959100204499% completed...\n",
      "Finished 0...\n",
      "Starting 1 merge...\n",
      "Finished 1...\n",
      "Starting 2 merge...\n",
      "Finished 2...\n",
      "Starting 3 merge...\n",
      "Finished 3...\n",
      "Starting 4 merge...\n",
      "Finished 4...\n",
      "Starting 5 merge...\n",
      "Finished 5...\n",
      "Starting 6 merge...\n",
      "on image 200 from sign number : 6\n",
      "have left 598 images to go...\n",
      "0.2506265664160401% completed...\n",
      "on image 400 from sign number : 6\n",
      "have left 398 images to go...\n",
      "0.5012531328320802% completed...\n",
      "on image 600 from sign number : 6\n",
      "have left 198 images to go...\n",
      "0.7518796992481203% completed...\n",
      "Finished 6...\n",
      "Starting 7 merge...\n",
      "Finished 7...\n",
      "Starting 8 merge...\n",
      "Finished 8...\n",
      "Starting 9 merge...\n",
      "Finished 9...\n",
      "Starting 10 merge...\n",
      "Finished 10...\n",
      "Starting 11 merge...\n",
      "Finished 11...\n",
      "Starting 12 merge...\n",
      "Finished 12...\n",
      "Starting 13 merge...\n",
      "Finished 13...\n",
      "Starting 14 merge...\n",
      "on image 200 from sign number : 14\n",
      "have left 268 images to go...\n",
      "0.42735042735042733% completed...\n",
      "on image 400 from sign number : 14\n",
      "have left 68 images to go...\n",
      "0.8547008547008547% completed...\n",
      "Finished 14...\n",
      "Starting 15 merge...\n",
      "on image 200 from sign number : 15\n",
      "have left 418 images to go...\n",
      "0.32362459546925565% completed...\n",
      "on image 400 from sign number : 15\n",
      "have left 218 images to go...\n",
      "0.6472491909385113% completed...\n",
      "on image 600 from sign number : 15\n",
      "have left 18 images to go...\n",
      "0.970873786407767% completed...\n",
      "Finished 15...\n",
      "Starting 16 merge...\n",
      "on image 200 from sign number : 16\n",
      "have left 598 images to go...\n",
      "0.2506265664160401% completed...\n",
      "on image 400 from sign number : 16\n",
      "have left 398 images to go...\n",
      "0.5012531328320802% completed...\n",
      "on image 600 from sign number : 16\n",
      "have left 198 images to go...\n",
      "0.7518796992481203% completed...\n",
      "Finished 16...\n",
      "Starting 17 merge...\n",
      "Finished 17...\n",
      "Starting 18 merge...\n",
      "Finished 18...\n",
      "Starting 19 merge...\n",
      "on image 200 from sign number : 19\n",
      "have left 778 images to go...\n",
      "0.20449897750511248% completed...\n",
      "on image 400 from sign number : 19\n",
      "have left 578 images to go...\n",
      "0.40899795501022496% completed...\n",
      "on image 600 from sign number : 19\n",
      "have left 378 images to go...\n",
      "0.6134969325153374% completed...\n",
      "on image 800 from sign number : 19\n",
      "have left 178 images to go...\n",
      "0.8179959100204499% completed...\n",
      "Finished 19...\n",
      "Starting 20 merge...\n",
      "on image 200 from sign number : 20\n",
      "have left 658 images to go...\n",
      "0.2331002331002331% completed...\n",
      "on image 400 from sign number : 20\n",
      "have left 458 images to go...\n",
      "0.4662004662004662% completed...\n",
      "on image 600 from sign number : 20\n",
      "have left 258 images to go...\n",
      "0.6993006993006993% completed...\n",
      "on image 800 from sign number : 20\n",
      "have left 58 images to go...\n",
      "0.9324009324009324% completed...\n",
      "Finished 20...\n",
      "Starting 21 merge...\n",
      "on image 200 from sign number : 21\n",
      "have left 688 images to go...\n",
      "0.22522522522522523% completed...\n",
      "on image 400 from sign number : 21\n",
      "have left 488 images to go...\n",
      "0.45045045045045046% completed...\n",
      "on image 600 from sign number : 21\n",
      "have left 288 images to go...\n",
      "0.6756756756756757% completed...\n",
      "on image 800 from sign number : 21\n",
      "have left 88 images to go...\n",
      "0.9009009009009009% completed...\n",
      "Finished 21...\n",
      "Starting 22 merge...\n",
      "on image 200 from sign number : 22\n",
      "have left 628 images to go...\n",
      "0.24154589371980675% completed...\n",
      "on image 400 from sign number : 22\n",
      "have left 428 images to go...\n",
      "0.4830917874396135% completed...\n",
      "on image 600 from sign number : 22\n",
      "have left 228 images to go...\n",
      "0.7246376811594203% completed...\n",
      "on image 800 from sign number : 22\n",
      "have left 28 images to go...\n",
      "0.966183574879227% completed...\n",
      "Finished 22...\n",
      "Starting 23 merge...\n",
      "on image 200 from sign number : 23\n",
      "have left 508 images to go...\n",
      "0.2824858757062147% completed...\n",
      "on image 400 from sign number : 23\n",
      "have left 308 images to go...\n",
      "0.5649717514124294% completed...\n",
      "on image 600 from sign number : 23\n",
      "have left 108 images to go...\n",
      "0.847457627118644% completed...\n",
      "Finished 23...\n",
      "Starting 24 merge...\n",
      "on image 200 from sign number : 24\n",
      "have left 718 images to go...\n",
      "0.2178649237472767% completed...\n",
      "on image 400 from sign number : 24\n",
      "have left 518 images to go...\n",
      "0.4357298474945534% completed...\n",
      "on image 600 from sign number : 24\n",
      "have left 318 images to go...\n",
      "0.6535947712418301% completed...\n",
      "on image 800 from sign number : 24\n",
      "have left 118 images to go...\n",
      "0.8714596949891068% completed...\n",
      "Finished 24...\n",
      "Starting 25 merge...\n",
      "Finished 25...\n",
      "Starting 26 merge...\n",
      "on image 200 from sign number : 26\n",
      "have left 418 images to go...\n",
      "0.32362459546925565% completed...\n",
      "on image 400 from sign number : 26\n",
      "have left 218 images to go...\n",
      "0.6472491909385113% completed...\n",
      "on image 600 from sign number : 26\n",
      "have left 18 images to go...\n",
      "0.970873786407767% completed...\n",
      "Finished 26...\n",
      "Starting 27 merge...\n",
      "on image 200 from sign number : 27\n",
      "have left 748 images to go...\n",
      "0.2109704641350211% completed...\n",
      "on image 400 from sign number : 27\n",
      "have left 548 images to go...\n",
      "0.4219409282700422% completed...\n",
      "on image 600 from sign number : 27\n",
      "have left 348 images to go...\n",
      "0.6329113924050633% completed...\n",
      "on image 800 from sign number : 27\n",
      "have left 148 images to go...\n",
      "0.8438818565400844% completed...\n",
      "Finished 27...\n",
      "Starting 28 merge...\n",
      "on image 200 from sign number : 28\n",
      "have left 478 images to go...\n",
      "0.2949852507374631% completed...\n",
      "on image 400 from sign number : 28\n",
      "have left 278 images to go...\n",
      "0.5899705014749262% completed...\n",
      "on image 600 from sign number : 28\n",
      "have left 78 images to go...\n",
      "0.8849557522123894% completed...\n",
      "Finished 28...\n",
      "Starting 29 merge...\n",
      "on image 200 from sign number : 29\n",
      "have left 718 images to go...\n",
      "0.2178649237472767% completed...\n",
      "on image 400 from sign number : 29\n",
      "have left 518 images to go...\n",
      "0.4357298474945534% completed...\n",
      "on image 600 from sign number : 29\n",
      "have left 318 images to go...\n",
      "0.6535947712418301% completed...\n",
      "on image 800 from sign number : 29\n",
      "have left 118 images to go...\n",
      "0.8714596949891068% completed...\n",
      "Finished 29...\n",
      "Starting 30 merge...\n",
      "on image 200 from sign number : 30\n",
      "have left 568 images to go...\n",
      "0.2604166666666667% completed...\n",
      "on image 400 from sign number : 30\n",
      "have left 368 images to go...\n",
      "0.5208333333333334% completed...\n",
      "on image 600 from sign number : 30\n",
      "have left 168 images to go...\n",
      "0.78125% completed...\n",
      "Finished 30...\n",
      "Starting 31 merge...\n",
      "on image 200 from sign number : 31\n",
      "have left 268 images to go...\n",
      "0.42735042735042733% completed...\n",
      "on image 400 from sign number : 31\n",
      "have left 68 images to go...\n",
      "0.8547008547008547% completed...\n",
      "Finished 31...\n",
      "Starting 32 merge...\n",
      "on image 200 from sign number : 32\n",
      "have left 748 images to go...\n",
      "0.2109704641350211% completed...\n",
      "on image 400 from sign number : 32\n",
      "have left 548 images to go...\n",
      "0.4219409282700422% completed...\n",
      "on image 600 from sign number : 32\n",
      "have left 348 images to go...\n",
      "0.6329113924050633% completed...\n",
      "on image 800 from sign number : 32\n",
      "have left 148 images to go...\n",
      "0.8438818565400844% completed...\n",
      "Finished 32...\n",
      "Starting 33 merge...\n",
      "on image 200 from sign number : 33\n",
      "have left 359 images to go...\n",
      "0.35778175313059035% completed...\n",
      "on image 400 from sign number : 33\n",
      "have left 159 images to go...\n",
      "0.7155635062611807% completed...\n",
      "Finished 33...\n",
      "Starting 34 merge...\n",
      "on image 200 from sign number : 34\n",
      "have left 598 images to go...\n",
      "0.2506265664160401% completed...\n",
      "on image 400 from sign number : 34\n",
      "have left 398 images to go...\n",
      "0.5012531328320802% completed...\n",
      "on image 600 from sign number : 34\n",
      "have left 198 images to go...\n",
      "0.7518796992481203% completed...\n",
      "Finished 34...\n",
      "Starting 35 merge...\n",
      "Finished 35...\n",
      "Starting 36 merge...\n",
      "on image 200 from sign number : 36\n",
      "have left 628 images to go...\n",
      "0.24154589371980675% completed...\n",
      "on image 400 from sign number : 36\n",
      "have left 428 images to go...\n",
      "0.4830917874396135% completed...\n",
      "on image 600 from sign number : 36\n",
      "have left 228 images to go...\n",
      "0.7246376811594203% completed...\n",
      "on image 800 from sign number : 36\n",
      "have left 28 images to go...\n",
      "0.966183574879227% completed...\n",
      "Finished 36...\n",
      "Starting 37 merge...\n",
      "on image 200 from sign number : 37\n",
      "have left 778 images to go...\n",
      "0.20449897750511248% completed...\n"
     ]
    },
    {
     "name": "stdout",
     "output_type": "stream",
     "text": [
      "on image 400 from sign number : 37\n",
      "have left 578 images to go...\n",
      "0.40899795501022496% completed...\n",
      "on image 600 from sign number : 37\n",
      "have left 378 images to go...\n",
      "0.6134969325153374% completed...\n",
      "on image 800 from sign number : 37\n",
      "have left 178 images to go...\n",
      "0.8179959100204499% completed...\n",
      "Finished 37...\n",
      "Starting 38 merge...\n",
      "Finished 38...\n",
      "Starting 39 merge...\n",
      "on image 200 from sign number : 39\n",
      "have left 688 images to go...\n",
      "0.22522522522522523% completed...\n",
      "on image 400 from sign number : 39\n",
      "have left 488 images to go...\n",
      "0.45045045045045046% completed...\n",
      "on image 600 from sign number : 39\n",
      "have left 288 images to go...\n",
      "0.6756756756756757% completed...\n",
      "on image 800 from sign number : 39\n",
      "have left 88 images to go...\n",
      "0.9009009009009009% completed...\n",
      "Finished 39...\n",
      "Starting 40 merge...\n",
      "on image 200 from sign number : 40\n",
      "have left 658 images to go...\n",
      "0.2331002331002331% completed...\n",
      "on image 400 from sign number : 40\n",
      "have left 458 images to go...\n",
      "0.4662004662004662% completed...\n",
      "on image 600 from sign number : 40\n",
      "have left 258 images to go...\n",
      "0.6993006993006993% completed...\n",
      "on image 800 from sign number : 40\n",
      "have left 58 images to go...\n",
      "0.9324009324009324% completed...\n",
      "Finished 40...\n",
      "Starting 41 merge...\n",
      "on image 200 from sign number : 41\n",
      "have left 748 images to go...\n",
      "0.2109704641350211% completed...\n",
      "on image 400 from sign number : 41\n",
      "have left 548 images to go...\n",
      "0.4219409282700422% completed...\n",
      "on image 600 from sign number : 41\n",
      "have left 348 images to go...\n",
      "0.6329113924050633% completed...\n",
      "on image 800 from sign number : 41\n",
      "have left 148 images to go...\n",
      "0.8438818565400844% completed...\n",
      "Finished 41...\n",
      "Starting 42 merge...\n",
      "on image 200 from sign number : 42\n",
      "have left 748 images to go...\n",
      "0.2109704641350211% completed...\n",
      "on image 400 from sign number : 42\n",
      "have left 548 images to go...\n",
      "0.4219409282700422% completed...\n",
      "on image 600 from sign number : 42\n",
      "have left 348 images to go...\n",
      "0.6329113924050633% completed...\n",
      "on image 800 from sign number : 42\n",
      "have left 148 images to go...\n",
      "0.8438818565400844% completed...\n",
      "Finished 42...\n"
     ]
    }
   ],
   "source": [
    "# combine the old and augmented image datasets in a new dictionary\n",
    "\n",
    "appended_X_train = normalized_X_train\n",
    "appended_y_train = y_train\n",
    "for sign_number in range(n_classes):\n",
    "    print(f\"Starting {sign_number} merge...\")\n",
    "    if (train_augmented_images_dict[sign_number]) == 0:\n",
    "        print(f\"{sign_number} skipped\")\n",
    "        pass\n",
    "    else:\n",
    "        count=0\n",
    "        for img in np.asarray(train_augmented_images_dict[sign_number]):\n",
    "            appended_X_train = np.append(appended_X_train, np.expand_dims(img, axis=0), axis=0)\n",
    "            appended_y_train = np.append(appended_y_train, sign_number)\n",
    "            count += 1\n",
    "            if count % 200 == 0:\n",
    "                print(f\"on image {count} from sign number : {sign_number}\")\n",
    "                print(f\"have left {len(train_augmented_images_dict[sign_number]) - count} images to go...\")\n",
    "                print(f\"{count/len(train_augmented_images_dict[sign_number])}% completed...\")\n",
    "    print(f\"Finished {sign_number}...\")\n",
    "    "
   ]
  },
  {
   "cell_type": "code",
   "execution_count": 75,
   "metadata": {},
   "outputs": [
    {
     "name": "stdout",
     "output_type": "stream",
     "text": [
      "(978, 32, 32, 1)\n",
      "(34799, 32, 32, 1)\n"
     ]
    }
   ],
   "source": [
    "print(np.asarray(train_augmented_images_dict[0]).shape)\n",
    "print(normalized_X_train.shape)"
   ]
  },
  {
   "cell_type": "code",
   "execution_count": 73,
   "metadata": {},
   "outputs": [
    {
     "data": {
      "text/plain": [
       "(56112, 32, 32, 1)"
      ]
     },
     "execution_count": 73,
     "metadata": {},
     "output_type": "execute_result"
    }
   ],
   "source": [
    "appended_X_train.shape"
   ]
  },
  {
   "cell_type": "code",
   "execution_count": 74,
   "metadata": {},
   "outputs": [
    {
     "data": {
      "text/plain": [
       "(56112,)"
      ]
     },
     "execution_count": 74,
     "metadata": {},
     "output_type": "execute_result"
    }
   ],
   "source": [
    "appended_y_train.shape"
   ]
  },
  {
   "cell_type": "code",
   "execution_count": 72,
   "metadata": {},
   "outputs": [],
   "source": [
    "# save the appended data cause it takes long\n",
    "with open('../data/X_train.pickle', 'wb') as f:\n",
    "    pickle.dump(appended_X_train, f)\n",
    "with open('../data/y_train.pickle', 'wb') as f:\n",
    "    pickle.dump(appended_y_train, f)\n",
    "\n"
   ]
  },
  {
   "cell_type": "code",
   "execution_count": 89,
   "metadata": {},
   "outputs": [
    {
     "data": {
      "text/plain": [
       "[<matplotlib.lines.Line2D at 0x7f96c1bcaf28>]"
      ]
     },
     "execution_count": 89,
     "metadata": {},
     "output_type": "execute_result"
    },
    {
     "data": {
      "image/png": "[encoded data removed]",
      "text/plain": [
       "<matplotlib.figure.Figure at 0x7f96c1bb4518>"
      ]
     },
     "metadata": {
      "needs_background": "light"
     },
     "output_type": "display_data"
    }
   ],
   "source": [
    "plt.plot(np.histogram(appended_y_train,bins=42)[0])"
   ]
  },
  {
   "cell_type": "markdown",
   "metadata": {},
   "source": [
    "### Model Architecture"
   ]
  },
  {
   "cell_type": "code",
   "execution_count": null,
   "metadata": {},
   "outputs": [],
   "source": [
    "### Define your architecture here.\n",
    "### Feel free to use as many code cells as needed."
   ]
  },
  {
   "cell_type": "code",
   "execution_count": 90,
   "metadata": {},
   "outputs": [],
   "source": [
    "import tensorflow as tf\n",
    "\n",
    "def model(input):\n",
    "    mu = 0\n",
    "    sigma = 0.1\n",
    "    \n",
    "    # layer 1 convolution : 32x32x1 -> 28x28x6\n",
    "    conv1_w = tf.Variable(tf.truncated_normal(shape=(5,5,1,6), mean=mu, stddev=sigma))\n",
    "    conv1_b = tf.Variable(tf.zeros(6))\n",
    "    conv1 = tf.nn.conv2d(input, conv1_w, strides=[1,1,1,1], padding='VALID') + conv1_b\n",
    "    \n",
    "    # activation function\n",
    "    conv1 = tf.nn.relu(conv1)\n",
    "    \n",
    "    # max pool 1 : 28x28x6 -> 14x14x6\n",
    "    conv1 = tf.nn.max_pool(conv1, ksize=[1,2,2,1], strides=[1,2,2,1], padding='VALID')\n",
    "    \n",
    "    # dropout 1\n",
    "    conv1 = tf.nn.dropout(conv1, keep_prob=0.8)\n",
    "    \n",
    "    \n",
    "    # layer 2 convolution : 14x14x6 -> 10x10x16\n",
    "    conv2_w = tf.Variable(tf.truncated_normal(shape=(5,5,6,16), mean=mu, stddev=sigma))\n",
    "    conv2_b = tf.Variable(tf.zeros(16))\n",
    "    conv2 = tf.nn.conv2d(conv1, conv2_w, strides=[1,1,1,1], padding='VALID') + conv2_b\n",
    "    \n",
    "    # activation function\n",
    "    conv2 = tf.nn.relu(conv2)\n",
    "    \n",
    "    # max pool 2 : 10x10x16 -> 5x5x16\n",
    "    conv2 = tf.nn.max_pool(conv2, ksize=[1,2,2,1], strides=[1,2,2,1], padding='VALID')\n",
    "    \n",
    "    # dropout 2 \n",
    "    conv2 = tf.nn.dropout(conv2, keep_prob=0.8)\n",
    "    \n",
    "    # layer 3 convolution : 5x5x16 -> 3x3x28\n",
    "    conv3_w = tf.Variable(tf.truncated_normal(shape=(3,3,16,32), mean=mu, stddev=sigma))\n",
    "    conv3_b = tf.Variable(tf.zeros(32))\n",
    "    conv3 = tf.nn.conv2d(conv2, conv3_w, strides=[1,1,1,1], padding='VALID') + conv3_b\n",
    "    \n",
    "    # activation\n",
    "    conv3 = tf.nn.relu(conv3)\n",
    "    \n",
    "    # dropout3\n",
    "    conv3 = tf.nn.dropout(conv3, keep_prob=0.8)\n",
    "    \n",
    "    # layer 4 linear : 3x3x28 -> 288\n",
    "    flt0 = tf.contrib.layers.flatten(conv3)\n",
    "    \n",
    "    # 288 -> 100\n",
    "    linear1_w = tf.Variable(tf.truncated_normal(shape=(288, 100), mean=mu, stddev=sigma))\n",
    "    linear1_b = tf.Variable(tf.zeros(100))\n",
    "    linear1 = tf.add(tf.matmul(flt0, linear1_w), linear1_b)\n",
    "    \n",
    "    # activation function\n",
    "    linear1 = tf.nn.relu(linear1)\n",
    "    \n",
    "    # layer 5 linear : 100 -> 43\n",
    "    linear2_w = tf.Variable(tf.truncated_normal(shape=(100, 43), mean=mu, stddev=sigma))\n",
    "    linear2_b = tf.Variable(tf.zeros(43))\n",
    "    logits = tf.add(tf.matmul(linear1, linear2_w), linear2_b)\n",
    "    \n",
    "#     # activation func\n",
    "#     linear2 = tf.nn.relu(linear2)\n",
    "    \n",
    "#     # layer 6 linear : 80 -> 43\n",
    "#     linear3_w = tf.Variable(tf.truncated_normal(shape=(80,43), mean=mu, stddev=sigma))\n",
    "#     linear3_b = tf.Variable(tf.zeros(43))\n",
    "#     logits = tf.add(tf.matmul(linear2, linear3_w), linear3_b)\n",
    "    \n",
    "    return logits"
   ]
  },
  {
   "cell_type": "markdown",
   "metadata": {},
   "source": [
    "### Train, Validate and Test the Model"
   ]
  },
  {
   "cell_type": "markdown",
   "metadata": {},
   "source": [
    "A validation set can be used to assess how well the model is performing. A low accuracy on the training and validation\n",
    "sets imply underfitting. A high accuracy on the training set but low accuracy on the validation set implies overfitting."
   ]
  },
  {
   "cell_type": "code",
   "execution_count": 91,
   "metadata": {},
   "outputs": [],
   "source": [
    "### Train your model here.\n",
    "### Calculate and report the accuracy on the training and validation set.\n",
    "### Once a final model architecture is selected, \n",
    "### the accuracy on the test set should be calculated and reported as well.\n",
    "### Feel free to use as many code cells as needed."
   ]
  },
  {
   "cell_type": "code",
   "execution_count": 92,
   "metadata": {},
   "outputs": [],
   "source": [
    "batch_size = 128\n",
    "n_epoch = 30\n",
    "learning_rate = 0.001\n",
    "\n",
    "x = tf.placeholder(tf.float32, (None, 32, 32, 1))\n",
    "y = tf.placeholder(tf.int32, (None))\n",
    "one_hot_y = tf.one_hot(y, 43)"
   ]
  },
  {
   "cell_type": "code",
   "execution_count": 93,
   "metadata": {},
   "outputs": [],
   "source": [
    "y_pred = model(x)\n",
    "cross_entropy = tf.nn.softmax_cross_entropy_with_logits(labels=one_hot_y, logits=y_pred)\n",
    "loss_function = tf.reduce_mean(cross_entropy)\n",
    "optimizer = tf.train.AdamOptimizer(learning_rate = learning_rate)\n",
    "train_operation = optimizer.minimize(loss_function)"
   ]
  },
  {
   "cell_type": "code",
   "execution_count": 94,
   "metadata": {},
   "outputs": [],
   "source": [
    "correct_prediction = tf.equal(tf.argmax(y_pred, 1), tf.argmax(one_hot_y, 1))\n",
    "accuracy_prediction = tf.reduce_mean(tf.cast(correct_prediction, tf.float32))\n",
    "saver = tf.train.Saver()"
   ]
  },
  {
   "cell_type": "code",
   "execution_count": 95,
   "metadata": {},
   "outputs": [],
   "source": [
    "def evaluate(X_train, y_train):\n",
    "    n_example = len(y_train)\n",
    "    total_accuracy = 0\n",
    "    sess = tf.get_default_session()\n",
    "    for i in range(0, n_example, batch_size):\n",
    "        batch_x = X_train[i:i+batch_size]\n",
    "        batch_y = y_train[i:i+batch_size]\n",
    "        \n",
    "        accuracy = sess.run(accuracy_prediction, feed_dict={x:batch_x, y:batch_y})\n",
    "        total_accuracy += (accuracy * len(batch_x))\n",
    "    return total_accuracy / n_example"
   ]
  },
  {
   "cell_type": "code",
   "execution_count": 96,
   "metadata": {},
   "outputs": [
    {
     "name": "stdout",
     "output_type": "stream",
     "text": [
      "Training...\n",
      "Loss at batch 12672: 3.7878410816192627\n",
      "Loss at batch 25472: 4.011958599090576\n",
      "EPOCH 0...\n",
      "Training Accuracy = 0.036466565132573604\n",
      "Validation Accuracy = 0.027891156462585033\n",
      "Loss at batch 12672: 3.701383113861084\n",
      "Loss at batch 25472: 3.99186635017395\n",
      "EPOCH 1...\n",
      "Training Accuracy = 0.03405270266595716\n",
      "Validation Accuracy = 0.04761904761566867\n",
      "Loss at batch 12672: 3.6693859100341797\n",
      "Loss at batch 25472: 3.9862895011901855\n",
      "EPOCH 2...\n",
      "Training Accuracy = 0.04181154631158532\n",
      "Validation Accuracy = 0.058730158728469255\n",
      "Loss at batch 12672: 3.5951902866363525\n",
      "Loss at batch 25472: 4.0306477546691895\n",
      "EPOCH 3...\n",
      "Training Accuracy = 0.042357539012525\n",
      "Validation Accuracy = 0.05941043086096543\n",
      "Loss at batch 12672: 3.5167012214660645\n",
      "Loss at batch 25472: 4.116103649139404\n",
      "EPOCH 4...\n",
      "Training Accuracy = 0.042932268171408876\n",
      "Validation Accuracy = 0.05873015875212189\n",
      "Loss at batch 12672: 3.430663585662842\n",
      "Loss at batch 25472: 4.210028648376465\n",
      "EPOCH 5...\n",
      "Training Accuracy = 0.04270237650785533\n",
      "Validation Accuracy = 0.06190476190307243\n",
      "Loss at batch 12672: 3.3474812507629395\n",
      "Loss at batch 25472: 4.305620193481445\n",
      "EPOCH 6...\n",
      "Training Accuracy = 0.04480013793392761\n",
      "Validation Accuracy = 0.059863945576541816\n",
      "Loss at batch 12672: 3.2761099338531494\n",
      "Loss at batch 25472: 4.39591121673584\n",
      "EPOCH 7...\n",
      "Training Accuracy = 0.036495301591213634\n",
      "Validation Accuracy = 0.033560090702947847\n",
      "Loss at batch 12672: 3.2203752994537354\n",
      "Loss at batch 25472: 4.47624397277832\n",
      "EPOCH 8...\n",
      "Training Accuracy = 0.03675392971340721\n",
      "Validation Accuracy = 0.035374149658174474\n",
      "Loss at batch 12672: 3.179811716079712\n",
      "Loss at batch 25472: 4.544686794281006\n",
      "EPOCH 9...\n",
      "Training Accuracy = 0.03701255783420912\n",
      "Validation Accuracy = 0.036961451245476055\n",
      "Loss at batch 12672: 3.1518704891204834\n",
      "Loss at batch 25472: 4.601312160491943\n",
      "EPOCH 10...\n",
      "Training Accuracy = 0.03893790051577427\n",
      "Validation Accuracy = 0.03605442176870748\n",
      "Loss at batch 12672: 3.133542537689209\n",
      "Loss at batch 25472: 4.64728307723999\n",
      "EPOCH 11...\n",
      "Training Accuracy = 0.03885169114263752\n",
      "Validation Accuracy = 0.035147392290249435\n",
      "Loss at batch 12672: 3.122159957885742\n",
      "Loss at batch 25472: 4.684174060821533\n",
      "EPOCH 12...\n",
      "Training Accuracy = 0.039311474469744624\n",
      "Validation Accuracy = 0.03446712018056116\n",
      "Loss at batch 12672: 3.115624189376831\n",
      "Loss at batch 25472: 4.713583469390869\n",
      "EPOCH 13...\n",
      "Training Accuracy = 0.039254001553856235\n",
      "Validation Accuracy = 0.034693877550175674\n",
      "Loss at batch 12672: 3.1123878955841064\n",
      "Loss at batch 25472: 4.73694372177124\n",
      "EPOCH 14...\n",
      "Training Accuracy = 0.039282738012496266\n",
      "Validation Accuracy = 0.033560090702103106\n",
      "Loss at batch 12672: 3.1113433837890625\n",
      "Loss at batch 25472: 4.75546407699585\n",
      "EPOCH 15...\n",
      "Training Accuracy = 0.03991494008587686\n",
      "Validation Accuracy = 0.033786848070872885\n",
      "Loss at batch 12672: 3.111722469329834\n",
      "Loss at batch 25472: 4.770147800445557\n",
      "EPOCH 16...\n",
      "Training Accuracy = 0.03954136613329817\n",
      "Validation Accuracy = 0.035600907029478455\n",
      "Loss at batch 12672: 3.1129894256591797\n",
      "Loss at batch 25472: 4.78178596496582\n",
      "EPOCH 17...\n",
      "Training Accuracy = 0.03968504842232331\n",
      "Validation Accuracy = 0.03582766439909297\n",
      "Loss at batch 12672: 3.114784002304077\n",
      "Loss at batch 25472: 4.791020393371582\n",
      "EPOCH 18...\n",
      "Training Accuracy = 0.039110319263439434\n",
      "Validation Accuracy = 0.03129251700595798\n",
      "Loss at batch 12672: 3.1168596744537354\n",
      "Loss at batch 25472: 4.798346519470215\n",
      "EPOCH 19...\n",
      "Training Accuracy = 0.040288514040543046\n",
      "Validation Accuracy = 0.033560090702103106\n",
      "Loss at batch 12672: 3.1190545558929443\n",
      "Loss at batch 25472: 4.804166793823242\n",
      "EPOCH 20...\n",
      "Training Accuracy = 0.040231041123958824\n",
      "Validation Accuracy = 0.03469387754933093\n",
      "Loss at batch 12672: 3.1212563514709473\n",
      "Loss at batch 25472: 4.808785915374756\n",
      "EPOCH 21...\n",
      "Training Accuracy = 0.03979999425479592\n",
      "Validation Accuracy = 0.03446712018056116\n",
      "Loss at batch 12672: 3.1234002113342285\n",
      "Loss at batch 25472: 4.812453746795654\n",
      "EPOCH 22...\n",
      "Training Accuracy = 0.04037472341298396\n",
      "Validation Accuracy = 0.03310657596371882\n",
      "Loss at batch 12672: 3.1254427433013916\n",
      "Loss at batch 25472: 4.815363883972168\n",
      "EPOCH 23...\n",
      "Training Accuracy = 0.04031725049848724\n",
      "Validation Accuracy = 0.03174603174518701\n",
      "Loss at batch 12672: 3.127359390258789\n",
      "Loss at batch 25472: 4.817672252655029\n",
      "EPOCH 24...\n",
      "Training Accuracy = 0.03968504842371498\n",
      "Validation Accuracy = 0.034467120181405894\n",
      "Loss at batch 12672: 3.1291403770446777\n",
      "Loss at batch 25472: 4.819497585296631\n",
      "EPOCH 25...\n",
      "Training Accuracy = 0.03971378488096334\n",
      "Validation Accuracy = 0.0321995464835713\n",
      "Loss at batch 12672: 3.130777597427368\n",
      "Loss at batch 25472: 4.8209381103515625\n",
      "EPOCH 26...\n",
      "Training Accuracy = 0.03985746717068431\n",
      "Validation Accuracy = 0.034693877550175674\n",
      "Loss at batch 12672: 3.1322786808013916\n",
      "Loss at batch 25472: 4.822068691253662\n",
      "EPOCH 27...\n",
      "Training Accuracy = 0.03991494008726853\n",
      "Validation Accuracy = 0.03378684807256236\n",
      "Loss at batch 12672: 3.133646249771118\n",
      "Loss at batch 25472: 4.822957992553711\n",
      "EPOCH 28...\n",
      "Training Accuracy = 0.04060461507792918\n",
      "Validation Accuracy = 0.03083900226672896\n",
      "Loss at batch 12672: 3.134889841079712\n",
      "Loss at batch 25472: 4.823648929595947\n",
      "EPOCH 29...\n",
      "Training Accuracy = 0.0417540733950011\n",
      "Validation Accuracy = 0.033560090702103106\n"
     ]
    }
   ],
   "source": [
    "from sklearn.utils import shuffle\n",
    "\n",
    "X_train, y_train= shuffle(appended_X_train, appended_y_train)\n",
    "X_valid, y_valid = shuffle(normalized_X_valid, y_valid)       \n",
    "\n",
    "# Train\n",
    "with tf.Session() as sess:\n",
    "    sess.run(tf.global_variables_initializer())\n",
    "    \n",
    "    print('Training...')\n",
    "    for epoch in range(n_epoch):\n",
    "        count=0\n",
    "        batch_x=0\n",
    "        batch_y=0\n",
    "        for i in range(0, n_train, batch_size):\n",
    "            batch_x = (X_train[i:i+batch_size].astype('float32')-128.0)/ 128\n",
    "            batch_y = y_train[i:i+batch_size]\n",
    "            \n",
    "            _, loss = sess.run([train_operation, loss_function], feed_dict={x:batch_x, y:batch_y})\n",
    "            \n",
    "            count += 1\n",
    "            if count%100==0:\n",
    "                print(f'Loss at batch {i}: {loss}')\n",
    "        train_accuracy = evaluate(X_train, y_train)\n",
    "        validation_accuracy = evaluate(X_valid, y_valid)\n",
    "        \n",
    "        print(f\"EPOCH {epoch}...\")\n",
    "        print(f\"Training Accuracy = {train_accuracy}\")\n",
    "        print(f\"Validation Accuracy = {validation_accuracy}\")\n",
    "        "
   ]
  },
  {
   "cell_type": "code",
   "execution_count": null,
   "metadata": {},
   "outputs": [],
   "source": [
    "normalized_X_valid.shape"
   ]
  },
  {
   "cell_type": "markdown",
   "metadata": {},
   "source": [
    "---\n",
    "\n",
    "## Step 3: Test a Model on New Images\n",
    "\n",
    "To give yourself more insight into how your model is working, download at least five pictures of German traffic signs from the web and use your model to predict the traffic sign type.\n",
    "\n",
    "You may find `signnames.csv` useful as it contains mappings from the class id (integer) to the actual sign name."
   ]
  },
  {
   "cell_type": "markdown",
   "metadata": {},
   "source": [
    "### Load and Output the Images"
   ]
  },
  {
   "cell_type": "code",
   "execution_count": null,
   "metadata": {},
   "outputs": [],
   "source": [
    "### Load the images and plot them here.\n",
    "### Feel free to use as many code cells as needed."
   ]
  },
  {
   "cell_type": "code",
   "execution_count": null,
   "metadata": {},
   "outputs": [],
   "source": [
    "import os\n",
    "import matplotlib.pyplot as plt\n",
    "import matplotlib.image as mpimg"
   ]
  },
  {
   "cell_type": "code",
   "execution_count": null,
   "metadata": {},
   "outputs": [],
   "source": [
    "german_signs_dir = '../data/traffic_signs'\n",
    "os.listdir(german_signs_dir)"
   ]
  },
  {
   "cell_type": "code",
   "execution_count": null,
   "metadata": {},
   "outputs": [],
   "source": [
    "img = mpimg.imread(german_signs_dir + '/1.jpg')\n",
    "plt.imshow(img)"
   ]
  },
  {
   "cell_type": "code",
   "execution_count": null,
   "metadata": {},
   "outputs": [],
   "source": []
  },
  {
   "cell_type": "markdown",
   "metadata": {},
   "source": [
    "### Predict the Sign Type for Each Image"
   ]
  },
  {
   "cell_type": "code",
   "execution_count": null,
   "metadata": {},
   "outputs": [],
   "source": [
    "### Run the predictions here and use the model to output the prediction for each image.\n",
    "### Make sure to pre-process the images with the same pre-processing pipeline used earlier.\n",
    "### Feel free to use as many code cells as needed."
   ]
  },
  {
   "cell_type": "markdown",
   "metadata": {},
   "source": [
    "### Analyze Performance"
   ]
  },
  {
   "cell_type": "code",
   "execution_count": null,
   "metadata": {},
   "outputs": [],
   "source": [
    "### Calculate the accuracy for these 5 new images. \n",
    "### For example, if the model predicted 1 out of 5 signs correctly, it's 20% accurate on these new images."
   ]
  },
  {
   "cell_type": "markdown",
   "metadata": {},
   "source": [
    "### Output Top 5 Softmax Probabilities For Each Image Found on the Web"
   ]
  },
  {
   "cell_type": "markdown",
   "metadata": {},
   "source": [
    "For each of the new images, print out the model's softmax probabilities to show the **certainty** of the model's predictions (limit the output to the top 5 probabilities for each image). [`tf.nn.top_k`](https://www.tensorflow.org/versions/r0.12/api_docs/python/nn.html#top_k) could prove helpful here. \n",
    "\n",
    "The example below demonstrates how tf.nn.top_k can be used to find the top k predictions for each image.\n",
    "\n",
    "`tf.nn.top_k` will return the values and indices (class ids) of the top k predictions. So if k=3, for each sign, it'll return the 3 largest probabilities (out of a possible 43) and the correspoding class ids.\n",
    "\n",
    "Take this numpy array as an example. The values in the array represent predictions. The array contains softmax probabilities for five candidate images with six possible classes. `tf.nn.top_k` is used to choose the three classes with the highest probability:\n",
    "\n",
    "```\n",
    "# (5, 6) array\n",
    "a = np.array([[ 0.24879643,  0.07032244,  0.12641572,  0.34763842,  0.07893497,\n",
    "         0.12789202],\n",
    "       [ 0.28086119,  0.27569815,  0.08594638,  0.0178669 ,  0.18063401,\n",
    "         0.15899337],\n",
    "       [ 0.26076848,  0.23664738,  0.08020603,  0.07001922,  0.1134371 ,\n",
    "         0.23892179],\n",
    "       [ 0.11943333,  0.29198961,  0.02605103,  0.26234032,  0.1351348 ,\n",
    "         0.16505091],\n",
    "       [ 0.09561176,  0.34396535,  0.0643941 ,  0.16240774,  0.24206137,\n",
    "         0.09155967]])\n",
    "```\n",
    "\n",
    "Running it through `sess.run(tf.nn.top_k(tf.constant(a), k=3))` produces:\n",
    "\n",
    "```\n",
    "TopKV2(values=array([[ 0.34763842,  0.24879643,  0.12789202],\n",
    "       [ 0.28086119,  0.27569815,  0.18063401],\n",
    "       [ 0.26076848,  0.23892179,  0.23664738],\n",
    "       [ 0.29198961,  0.26234032,  0.16505091],\n",
    "       [ 0.34396535,  0.24206137,  0.16240774]]), indices=array([[3, 0, 5],\n",
    "       [0, 1, 4],\n",
    "       [0, 5, 1],\n",
    "       [1, 3, 5],\n",
    "       [1, 4, 3]], dtype=int32))\n",
    "```\n",
    "\n",
    "Looking just at the first row we get `[ 0.34763842,  0.24879643,  0.12789202]`, you can confirm these are the 3 largest probabilities in `a`. You'll also notice `[3, 0, 5]` are the corresponding indices."
   ]
  },
  {
   "cell_type": "code",
   "execution_count": null,
   "metadata": {},
   "outputs": [],
   "source": [
    "### Print out the top five softmax probabilities for the predictions on the German traffic sign images found on the web. \n",
    "### Feel free to use as many code cells as needed."
   ]
  },
  {
   "cell_type": "markdown",
   "metadata": {},
   "source": [
    "### Project Writeup\n",
    "\n",
    "Once you have completed the code implementation, document your results in a project writeup using this [template](https://github.com/udacity/CarND-Traffic-Sign-Classifier-Project/blob/master/writeup_template.md) as a guide. The writeup can be in a markdown or pdf file. "
   ]
  },
  {
   "cell_type": "markdown",
   "metadata": {},
   "source": [
    "> **Note**: Once you have completed all of the code implementations and successfully answered each question above, you may finalize your work by exporting the iPython Notebook as an HTML document. You can do this by using the menu above and navigating to  \\n\",\n",
    "    \"**File -> Download as -> HTML (.html)**. Include the finished document along with this notebook as your submission."
   ]
  },
  {
   "cell_type": "markdown",
   "metadata": {},
   "source": [
    "---\n",
    "\n",
    "## Step 4 (Optional): Visualize the Neural Network's State with Test Images\n",
    "\n",
    " This Section is not required to complete but acts as an additional excersise for understaning the output of a neural network's weights. While neural networks can be a great learning device they are often referred to as a black box. We can understand what the weights of a neural network look like better by plotting their feature maps. After successfully training your neural network you can see what it's feature maps look like by plotting the output of the network's weight layers in response to a test stimuli image. From these plotted feature maps, it's possible to see what characteristics of an image the network finds interesting. For a sign, maybe the inner network feature maps react with high activation to the sign's boundary outline or to the contrast in the sign's painted symbol.\n",
    "\n",
    " Provided for you below is the function code that allows you to get the visualization output of any tensorflow weight layer you want. The inputs to the function should be a stimuli image, one used during training or a new one you provided, and then the tensorflow variable name that represents the layer's state during the training process, for instance if you wanted to see what the [LeNet lab's](https://classroom.udacity.com/nanodegrees/nd013/parts/fbf77062-5703-404e-b60c-95b78b2f3f9e/modules/6df7ae49-c61c-4bb2-a23e-6527e69209ec/lessons/601ae704-1035-4287-8b11-e2c2716217ad/concepts/d4aca031-508f-4e0b-b493-e7b706120f81) feature maps looked like for it's second convolutional layer you could enter conv2 as the tf_activation variable.\n",
    "\n",
    "For an example of what feature map outputs look like, check out NVIDIA's results in their paper [End-to-End Deep Learning for Self-Driving Cars](https://devblogs.nvidia.com/parallelforall/deep-learning-self-driving-cars/) in the section Visualization of internal CNN State. NVIDIA was able to show that their network's inner weights had high activations to road boundary lines by comparing feature maps from an image with a clear path to one without. Try experimenting with a similar test to show that your trained network's weights are looking for interesting features, whether it's looking at differences in feature maps from images with or without a sign, or even what feature maps look like in a trained network vs a completely untrained one on the same sign image.\n",
    "\n",
    "<figure>\n",
    " <img src=\"visualize_cnn.png\" width=\"380\" alt=\"Combined Image\" />\n",
    " <figcaption>\n",
    " <p></p> \n",
    " <p style=\"text-align: center;\"> Your output should look something like this (above)</p> \n",
    " </figcaption>\n",
    "</figure>\n",
    " <p></p> \n"
   ]
  },
  {
   "cell_type": "code",
   "execution_count": null,
   "metadata": {},
   "outputs": [],
   "source": [
    "### Visualize your network's feature maps here.\n",
    "### Feel free to use as many code cells as needed.\n",
    "\n",
    "# image_input: the test image being fed into the network to produce the feature maps\n",
    "# tf_activation: should be a tf variable name used during your training procedure that represents the calculated state of a specific weight layer\n",
    "# activation_min/max: can be used to view the activation contrast in more detail, by default matplot sets min and max to the actual min and max values of the output\n",
    "# plt_num: used to plot out multiple different weight feature map sets on the same block, just extend the plt number for each new feature map entry\n",
    "\n",
    "def outputFeatureMap(image_input, tf_activation, activation_min=-1, activation_max=-1 ,plt_num=1):\n",
    "    # Here make sure to preprocess your image_input in a way your network expects\n",
    "    # with size, normalization, ect if needed\n",
    "    # image_input =\n",
    "    # Note: x should be the same name as your network's tensorflow data placeholder variable\n",
    "    # If you get an error tf_activation is not defined it may be having trouble accessing the variable from inside a function\n",
    "    activation = tf_activation.eval(session=sess,feed_dict={x : image_input})\n",
    "    featuremaps = activation.shape[3]\n",
    "    plt.figure(plt_num, figsize=(15,15))\n",
    "    for featuremap in range(featuremaps):\n",
    "        plt.subplot(6,8, featuremap+1) # sets the number of feature maps to show on each row and column\n",
    "        plt.title('FeatureMap ' + str(featuremap)) # displays the feature map number\n",
    "        if activation_min != -1 & activation_max != -1:\n",
    "            plt.imshow(activation[0,:,:, featuremap], interpolation=\"nearest\", vmin =activation_min, vmax=activation_max, cmap=\"gray\")\n",
    "        elif activation_max != -1:\n",
    "            plt.imshow(activation[0,:,:, featuremap], interpolation=\"nearest\", vmax=activation_max, cmap=\"gray\")\n",
    "        elif activation_min !=-1:\n",
    "            plt.imshow(activation[0,:,:, featuremap], interpolation=\"nearest\", vmin=activation_min, cmap=\"gray\")\n",
    "        else:\n",
    "            plt.imshow(activation[0,:,:, featuremap], interpolation=\"nearest\", cmap=\"gray\")"
   ]
  }
 ],
 "metadata": {
  "anaconda-cloud": {},
  "kernelspec": {
   "display_name": "Python 3",
   "language": "python",
   "name": "python3"
  },
  "language_info": {
   "codemirror_mode": {
    "name": "ipython",
    "version": 3
   },
   "file_extension": ".py",
   "mimetype": "text/x-python",
   "name": "python",
   "nbconvert_exporter": "python",
   "pygments_lexer": "ipython3",
   "version": "3.6.3"
  }
 },
 "nbformat": 4,
 "nbformat_minor": 1
}
