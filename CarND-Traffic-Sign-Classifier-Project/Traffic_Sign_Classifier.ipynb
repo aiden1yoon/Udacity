{
 "cells": [
  {
   "cell_type": "markdown",
   "metadata": {},
   "source": [
    "# Self-Driving Car Engineer Nanodegree\n",
    "\n",
    "## Deep Learning\n",
    "\n",
    "## Project: Build a Traffic Sign Recognition Classifier\n",
    "\n",
    "In this notebook, a template is provided for you to implement your functionality in stages, which is required to successfully complete this project. If additional code is required that cannot be included in the notebook, be sure that the Python code is successfully imported and included in your submission if necessary. \n",
    "\n",
    "> **Note**: Once you have completed all of the code implementations, you need to finalize your work by exporting the iPython Notebook as an HTML document. Before exporting the notebook to html, all of the code cells need to have been run so that reviewers can see the final implementation and output. You can then export the notebook by using the menu above and navigating to  \\n\",\n",
    "    \"**File -> Download as -> HTML (.html)**. Include the finished document along with this notebook as your submission. \n",
    "\n",
    "In addition to implementing code, there is a writeup to complete. The writeup should be completed in a separate file, which can be either a markdown file or a pdf document. There is a [write up template](https://github.com/udacity/CarND-Traffic-Sign-Classifier-Project/blob/master/writeup_template.md) that can be used to guide the writing process. Completing the code template and writeup template will cover all of the [rubric points](https://review.udacity.com/#!/rubrics/481/view) for this project.\n",
    "\n",
    "The [rubric](https://review.udacity.com/#!/rubrics/481/view) contains \"Stand Out Suggestions\" for enhancing the project beyond the minimum requirements. The stand out suggestions are optional. If you decide to pursue the \"stand out suggestions\", you can include the code in this Ipython notebook and also discuss the results in the writeup file.\n",
    "\n",
    "\n",
    ">**Note:** Code and Markdown cells can be executed using the **Shift + Enter** keyboard shortcut. In addition, Markdown cells can be edited by typically double-clicking the cell to enter edit mode."
   ]
  },
  {
   "cell_type": "markdown",
   "metadata": {},
   "source": [
    "---\n",
    "## Step 0: Load The Data"
   ]
  },
  {
   "cell_type": "code",
   "execution_count": 1,
   "metadata": {},
   "outputs": [],
   "source": [
    "# Load pickled data\n",
    "import pickle\n",
    "\n",
    "# TODO: Fill this in based on where you saved the training and testing data\n",
    "\n",
    "training_file = '../data/train.p'\n",
    "validation_file= '../data/valid.p'\n",
    "testing_file = '../data/test.p'\n",
    "\n",
    "with open(training_file, mode='rb') as f:\n",
    "    train = pickle.load(f)\n",
    "with open(validation_file, mode='rb') as f:\n",
    "    valid = pickle.load(f)\n",
    "with open(testing_file, mode='rb') as f:\n",
    "    test = pickle.load(f)\n",
    "    \n",
    "X_train, y_train = train['features'], train['labels']\n",
    "X_valid, y_valid = valid['features'], valid['labels']\n",
    "X_test, y_test = test['features'], test['labels']"
   ]
  },
  {
   "cell_type": "markdown",
   "metadata": {},
   "source": [
    "---\n",
    "\n",
    "## Step 1: Dataset Summary & Exploration\n",
    "\n",
    "The pickled data is a dictionary with 4 key/value pairs:\n",
    "\n",
    "- `'features'` is a 4D array containing raw pixel data of the traffic sign images, (num examples, width, height, channels).\n",
    "- `'labels'` is a 1D array containing the label/class id of the traffic sign. The file `signnames.csv` contains id -> name mappings for each id.\n",
    "- `'sizes'` is a list containing tuples, (width, height) representing the original width and height the image.\n",
    "- `'coords'` is a list containing tuples, (x1, y1, x2, y2) representing coordinates of a bounding box around the sign in the image. **THESE COORDINATES ASSUME THE ORIGINAL IMAGE. THE PICKLED DATA CONTAINS RESIZED VERSIONS (32 by 32) OF THESE IMAGES**\n",
    "\n",
    "Complete the basic data summary below. Use python, numpy and/or pandas methods to calculate the data summary rather than hard coding the results. For example, the [pandas shape method](http://pandas.pydata.org/pandas-docs/stable/generated/pandas.DataFrame.shape.html) might be useful for calculating some of the summary results. "
   ]
  },
  {
   "cell_type": "markdown",
   "metadata": {},
   "source": [
    "### Provide a Basic Summary of the Data Set Using Python, Numpy and/or Pandas"
   ]
  },
  {
   "cell_type": "code",
   "execution_count": 2,
   "metadata": {},
   "outputs": [
    {
     "name": "stdout",
     "output_type": "stream",
     "text": [
      "dict_keys(['coords', 'labels', 'features', 'sizes'])\n"
     ]
    },
    {
     "data": {
      "text/plain": [
       "(34799, 32, 32, 3)"
      ]
     },
     "execution_count": 2,
     "metadata": {},
     "output_type": "execute_result"
    }
   ],
   "source": [
    "import pandas as pd\n",
    "import numpy as np\n",
    "\n",
    "train_data = pd.read_pickle(training_file)\n",
    "print(train_data.keys())\n",
    "train_data['features'].shape"
   ]
  },
  {
   "cell_type": "code",
   "execution_count": 3,
   "metadata": {},
   "outputs": [
    {
     "name": "stdout",
     "output_type": "stream",
     "text": [
      "Number of training examples = 34799\n",
      "Number of testing examples = 12630\n",
      "Image data shape = (32, 32, 3)\n",
      "Number of classes = 43\n"
     ]
    }
   ],
   "source": [
    "### Replace each question mark with the appropriate value. \n",
    "### Use python, pandas or numpy methods rather than hard coding the results\n",
    "\n",
    "# TODO: Number of training examples\n",
    "train_data = pd.read_pickle(training_file)\n",
    "n_train = train_data['labels'].shape[0]\n",
    "\n",
    "# TODO: Number of validation examples\n",
    "validation_data = pd.read_pickle(validation_file)\n",
    "n_validation = validation_data['labels'].shape[0]\n",
    "\n",
    "# TODO: Number of testing examples.\n",
    "test_data = pd.read_pickle(testing_file)\n",
    "n_test = test_data['labels'].shape[0]\n",
    "\n",
    "# TODO: What's the shape of an traffic sign image?\n",
    "image_shape = train_data['features'].shape[1:]\n",
    "\n",
    "# TODO: How many unique classes/labels there are in the dataset.\n",
    "n_classes = np.unique(train_data['labels']).shape[0]\n",
    "\n",
    "print(\"Number of training examples =\", n_train)\n",
    "print(\"Number of testing examples =\", n_test)\n",
    "print(\"Image data shape =\", image_shape)\n",
    "print(\"Number of classes =\", n_classes)"
   ]
  },
  {
   "cell_type": "markdown",
   "metadata": {},
   "source": [
    "### Include an exploratory visualization of the dataset"
   ]
  },
  {
   "cell_type": "markdown",
   "metadata": {},
   "source": [
    "Visualize the German Traffic Signs Dataset using the pickled file(s). This is open ended, suggestions include: plotting traffic sign images, plotting the count of each sign, etc. \n",
    "\n",
    "The [Matplotlib](http://matplotlib.org/) [examples](http://matplotlib.org/examples/index.html) and [gallery](http://matplotlib.org/gallery.html) pages are a great resource for doing visualizations in Python.\n",
    "\n",
    "**NOTE:** It's recommended you start with something simple first. If you wish to do more, come back to it after you've completed the rest of the sections. It can be interesting to look at the distribution of classes in the training, validation and test set. Is the distribution the same? Are there more examples of some classes than others?"
   ]
  },
  {
   "cell_type": "code",
   "execution_count": 4,
   "metadata": {},
   "outputs": [],
   "source": [
    "### Data exploration visualization code goes here.\n",
    "### Feel free to use as many code cells as needed.\n",
    "import matplotlib.pyplot as plt\n",
    "# Visualizations will be shown in the notebook.\n",
    "%matplotlib inline"
   ]
  },
  {
   "cell_type": "code",
   "execution_count": 5,
   "metadata": {},
   "outputs": [
    {
     "data": {
      "text/plain": [
       "<matplotlib.image.AxesImage at 0x7f16235b69b0>"
      ]
     },
     "execution_count": 5,
     "metadata": {},
     "output_type": "execute_result"
    },
    {
     "data": {
      "image/png": "[encoded data removed]",
      "text/plain": [
       "<matplotlib.figure.Figure at 0x7f162365d198>"
      ]
     },
     "metadata": {
      "needs_background": "light"
     },
     "output_type": "display_data"
    }
   ],
   "source": [
    "plt.imshow(train_data['features'][22222])"
   ]
  },
  {
   "cell_type": "code",
   "execution_count": 6,
   "metadata": {},
   "outputs": [
    {
     "name": "stdout",
     "output_type": "stream",
     "text": [
      "number of different signs: 43\n"
     ]
    }
   ],
   "source": [
    "num_signs = np.unique(train_data['labels'])\n",
    "print('number of different signs:', len(num_signs))"
   ]
  },
  {
   "cell_type": "code",
   "execution_count": 7,
   "metadata": {},
   "outputs": [],
   "source": [
    "labels_df = pd.DataFrame(train_data['labels'])\n",
    "labels_df = pd.DataFrame(labels_df[0].value_counts()).sort_index().reset_index().rename(columns={'index':'sign number', 0:'count'})"
   ]
  },
  {
   "cell_type": "code",
   "execution_count": 8,
   "metadata": {
    "scrolled": true
   },
   "outputs": [
    {
     "data": {
      "text/plain": [
       "<matplotlib.axes._subplots.AxesSubplot at 0x7f1623585828>"
      ]
     },
     "execution_count": 8,
     "metadata": {},
     "output_type": "execute_result"
    },
    {
     "data": {
      "image/png": "[encoded data removed]",
      "text/plain": [
       "<matplotlib.figure.Figure at 0x7f1624262470>"
      ]
     },
     "metadata": {
      "needs_background": "light"
     },
     "output_type": "display_data"
    }
   ],
   "source": [
    "labels_df.plot.bar(x='sign number', y='count')\n",
    "# shows that not the number of sign data is evenly distributed."
   ]
  },
  {
   "cell_type": "code",
   "execution_count": null,
   "metadata": {},
   "outputs": [],
   "source": []
  },
  {
   "cell_type": "markdown",
   "metadata": {},
   "source": [
    "----\n",
    "\n",
    "## Step 2: Design and Test a Model Architecture\n",
    "\n",
    "Design and implement a deep learning model that learns to recognize traffic signs. Train and test your model on the [German Traffic Sign Dataset](http://benchmark.ini.rub.de/?section=gtsrb&subsection=dataset).\n",
    "\n",
    "The LeNet-5 implementation shown in the [classroom](https://classroom.udacity.com/nanodegrees/nd013/parts/fbf77062-5703-404e-b60c-95b78b2f3f9e/modules/6df7ae49-c61c-4bb2-a23e-6527e69209ec/lessons/601ae704-1035-4287-8b11-e2c2716217ad/concepts/d4aca031-508f-4e0b-b493-e7b706120f81) at the end of the CNN lesson is a solid starting point. You'll have to change the number of classes and possibly the preprocessing, but aside from that it's plug and play! \n",
    "\n",
    "With the LeNet-5 solution from the lecture, you should expect a validation set accuracy of about 0.89. To meet specifications, the validation set accuracy will need to be at least 0.93. It is possible to get an even higher accuracy, but 0.93 is the minimum for a successful project submission. \n",
    "\n",
    "There are various aspects to consider when thinking about this problem:\n",
    "\n",
    "- Neural network architecture (is the network over or underfitting?)\n",
    "- Play around preprocessing techniques (normalization, rgb to grayscale, etc)\n",
    "- Number of examples per label (some have more than others).\n",
    "- Generate fake data.\n",
    "\n",
    "Here is an example of a [published baseline model on this problem](http://yann.lecun.com/exdb/publis/pdf/sermanet-ijcnn-11.pdf). It's not required to be familiar with the approach used in the paper but, it's good practice to try to read papers like these."
   ]
  },
  {
   "cell_type": "markdown",
   "metadata": {},
   "source": [
    "### Pre-process the Data Set (normalization, grayscale, etc.)"
   ]
  },
  {
   "cell_type": "markdown",
   "metadata": {},
   "source": [
    "Minimally, the image data should be normalized so that the data has mean zero and equal variance. For image data, `(pixel - 128)/ 128` is a quick way to approximately normalize the data and can be used in this project. \n",
    "\n",
    "Other pre-processing steps are optional. You can try different techniques to see if it improves performance. \n",
    "\n",
    "Use the code cell (or multiple code cells, if necessary) to implement the first step of your project."
   ]
  },
  {
   "cell_type": "code",
   "execution_count": 9,
   "metadata": {},
   "outputs": [],
   "source": [
    "### Preprocess the data here. It is required to normalize the data. Other preprocessing steps could include \n",
    "### converting to grayscale, etc.\n",
    "### Feel free to use as many code cells as needed."
   ]
  },
  {
   "cell_type": "markdown",
   "metadata": {},
   "source": [
    "#### gray and normalized image"
   ]
  },
  {
   "cell_type": "code",
   "execution_count": 10,
   "metadata": {},
   "outputs": [],
   "source": [
    "gry_X_train = X_train.mean(axis=3, keepdims=True)\n",
    "gry_X_valid = X_valid.mean(axis=3, keepdims=True)\n",
    "gry_X_test = X_test.mean(axis=3, keepdims=True)\n"
   ]
  },
  {
   "cell_type": "code",
   "execution_count": 11,
   "metadata": {},
   "outputs": [],
   "source": [
    "normalized_X_train = (gry_X_train - 128.0) / 128\n",
    "normalized_X_valid = (gry_X_valid - 128.0) / 128\n",
    "normalized_X_test = (gry_X_test - 128.0) / 128"
   ]
  },
  {
   "cell_type": "code",
   "execution_count": 12,
   "metadata": {},
   "outputs": [
    {
     "data": {
      "text/plain": [
       "(32, 32, 1)"
      ]
     },
     "execution_count": 12,
     "metadata": {},
     "output_type": "execute_result"
    }
   ],
   "source": [
    "normalized_X_train[222].shape"
   ]
  },
  {
   "cell_type": "code",
   "execution_count": 13,
   "metadata": {},
   "outputs": [
    {
     "data": {
      "text/plain": [
       "<matplotlib.image.AxesImage at 0x7f161eeac128>"
      ]
     },
     "execution_count": 13,
     "metadata": {},
     "output_type": "execute_result"
    },
    {
     "data": {
      "image/png": "[encoded data removed]",
      "text/plain": [
       "<matplotlib.figure.Figure at 0x7f162356b7f0>"
      ]
     },
     "metadata": {
      "needs_background": "light"
     },
     "output_type": "display_data"
    }
   ],
   "source": [
    "plt.imshow(normalized_X_train[222].squeeze(), cmap='gray')"
   ]
  },
  {
   "cell_type": "markdown",
   "metadata": {},
   "source": [
    "#### add more image data by augmenting them"
   ]
  },
  {
   "cell_type": "code",
   "execution_count": 14,
   "metadata": {},
   "outputs": [],
   "source": [
    "import random\n",
    "import cv2\n",
    "import time"
   ]
  },
  {
   "cell_type": "code",
   "execution_count": 15,
   "metadata": {},
   "outputs": [],
   "source": [
    "def random_translate(img):\n",
    "    rnd_x, rnd_y = np.random.randint(-2,2,2)\n",
    "    \n",
    "    row, col = img.shape[0], img.shape[1]\n",
    "    \n",
    "    M = np.float32([[1,0,rnd_x], [0,1,rnd_y]])\n",
    "    dst = cv2.warpAffine(img, M, (col,row))\n",
    "    dst = dst[:,:,np.newaxis]\n",
    "    return dst"
   ]
  },
  {
   "cell_type": "code",
   "execution_count": 16,
   "metadata": {},
   "outputs": [],
   "source": [
    "test = normalized_X_train[222]"
   ]
  },
  {
   "cell_type": "code",
   "execution_count": 17,
   "metadata": {},
   "outputs": [
    {
     "data": {
      "text/plain": [
       "<matplotlib.image.AxesImage at 0x7f16128f4eb8>"
      ]
     },
     "execution_count": 17,
     "metadata": {},
     "output_type": "execute_result"
    },
    {
     "data": {
      "image/png": "[encoded data removed]",
      "text/plain": [
       "<matplotlib.figure.Figure at 0x7f16129416d8>"
      ]
     },
     "metadata": {
      "needs_background": "light"
     },
     "output_type": "display_data"
    }
   ],
   "source": [
    "plt.imshow(random_translate(test).squeeze())"
   ]
  },
  {
   "cell_type": "code",
   "execution_count": 18,
   "metadata": {},
   "outputs": [],
   "source": [
    "def random_rotation(img):\n",
    "    rnd_theta = np.random.randint(-15,15,1)\n",
    "    \n",
    "    row, col = img.shape[0], img.shape[1]\n",
    "    plt.imshow(img.squeeze())\n",
    "    M = cv2.getRotationMatrix2D((col/2,row/2), rnd_theta, 1)\n",
    "    dst = cv2.warpAffine(img, M, (col, row))\n",
    "    return dst"
   ]
  },
  {
   "cell_type": "code",
   "execution_count": 19,
   "metadata": {},
   "outputs": [
    {
     "data": {
      "text/plain": [
       "<matplotlib.image.AxesImage at 0x7f16128616d8>"
      ]
     },
     "execution_count": 19,
     "metadata": {},
     "output_type": "execute_result"
    },
    {
     "data": {
      "image/png": "[encoded data removed]",
      "text/plain": [
       "<matplotlib.figure.Figure at 0x7f16129485c0>"
      ]
     },
     "metadata": {
      "needs_background": "light"
     },
     "output_type": "display_data"
    }
   ],
   "source": [
    "plt.imshow(random_rotation(test).squeeze())"
   ]
  },
  {
   "cell_type": "code",
   "execution_count": 20,
   "metadata": {},
   "outputs": [
    {
     "data": {
      "text/plain": [
       "True"
      ]
     },
     "execution_count": 20,
     "metadata": {},
     "output_type": "execute_result"
    }
   ],
   "source": [
    "test = []\n",
    "\n",
    "len(test) == 0"
   ]
  },
  {
   "cell_type": "code",
   "execution_count": 21,
   "metadata": {},
   "outputs": [],
   "source": [
    "# need to append back to X_data and y_data\n",
    "# creates largest_5_mean*0.6 - len(data of sign number)\n",
    "def augment_images(images_dict, largest_5_mean):\n",
    "    \n",
    "    goal = np.floor(largest_5_mean * 0.6)\n",
    "    augmented_dict = {}\n",
    "    for i in images_dict:\n",
    "        augmented_images = []\n",
    "        \n",
    "        for _ in range((goal - len(images_dict[i])).astype(int) ):\n",
    "            if len(images_dict[i]) == 0:\n",
    "                break\n",
    "            \n",
    "            img = random.choice(images_dict[i][:-1])\n",
    "            \n",
    "            augmented_img = random_rotation(img)\n",
    "            augmented_img = random_translate(augmented_img)\n",
    "            \n",
    "            augmented_images.append(augmented_img)\n",
    "\n",
    "        augmented_dict[i] = augmented_images\n",
    "\n",
    "    return augmented_dict"
   ]
  },
  {
   "cell_type": "code",
   "execution_count": 22,
   "metadata": {},
   "outputs": [],
   "source": [
    "train_df = pd.DataFrame(pd.DataFrame(y_train)[0].value_counts()).sort_index().reset_index().rename(columns={'index':'sign number', 0:'count'})\n",
    "train_largest_5 = train_df['count'].nlargest(5)\n",
    "train_largest_5_mean = np.floor(train_largest_5.mean())\n",
    "\n",
    "valid_df = pd.DataFrame(pd.DataFrame(y_valid)[0].value_counts()).sort_index().reset_index().rename(columns={'index':'sign number', 0:'count'})\n",
    "valid_largest_5 = valid_df['count'].nlargest(5)\n",
    "valid_largest_5_mean = np.floor(valid_largest_5.mean())\n",
    "\n",
    "test_df = pd.DataFrame(pd.DataFrame(y_test)[0].value_counts()).sort_index().reset_index().rename(columns={'index':'sign number', 0:'count'})\n",
    "test_largest_5 = test_df['count'].nlargest(5)\n",
    "test_largest_5_mean = np.floor(test_largest_5.mean())\n"
   ]
  },
  {
   "cell_type": "code",
   "execution_count": 23,
   "metadata": {},
   "outputs": [],
   "source": [
    "train_less_than_largestMean_dict = {}\n",
    "for i in np.unique(y_train):\n",
    "    train_less_than_largestMean_dict[i] = []\n",
    "\n",
    "valid_less_than_largestMean_dict = {}\n",
    "for i in np.unique(y_valid):\n",
    "    valid_less_than_largestMean_dict[i] = []\n",
    "    \n",
    "test_less_than_largestMean_dict = {}\n",
    "for i in np.unique(y_test):\n",
    "    test_less_than_largestMean_dict[i] = []\n",
    "    \n"
   ]
  },
  {
   "cell_type": "code",
   "execution_count": 24,
   "metadata": {
    "scrolled": true
   },
   "outputs": [],
   "source": [
    "\n",
    "for sign_number, count in zip(train_df[train_df['count'] < (train_largest_5_mean * 0.6)]['sign number'], train_df[train_df['count'] < (train_largest_5_mean * 0.6)]['count']):\n",
    "#     print(sign_number, count)\n",
    "    for x, y in zip(normalized_X_train, y_train):\n",
    "        if y == sign_number:\n",
    "            train_less_than_largestMean_dict[sign_number].append(x)\n",
    "    \n",
    "    train_less_than_largestMean_dict[sign_number].append(count)\n",
    "            \n",
    "\n",
    "for sign_number, count in zip(valid_df[valid_df['count'] < (valid_largest_5_mean * 0.6)]['sign number'], valid_df[valid_df['count'] < (valid_largest_5_mean * 0.6)]['count']):\n",
    "#     print(sign_number, count)\n",
    "    for x, y in zip(normalized_X_valid, y_valid):\n",
    "        if y == sign_number:\n",
    "            valid_less_than_largestMean_dict[sign_number].append(x)\n",
    "            \n",
    "    valid_less_than_largestMean_dict[sign_number].append(count)\n",
    "            \n",
    "for sign_number, count in zip(test_df[test_df['count'] < (test_largest_5_mean * 0.6)]['sign number'], test_df[test_df['count'] < (test_largest_5_mean * 0.6)]['count']):\n",
    "#     print(sign_number, count)\n",
    "    for x, y in zip(normalized_X_test, y_test):\n",
    "        if y == sign_number:\n",
    "            test_less_than_largestMean_dict[sign_number].append(x) \n",
    "            \n",
    "    test_less_than_largestMean_dict[sign_number].append(count)\n",
    "          "
   ]
  },
  {
   "cell_type": "code",
   "execution_count": 25,
   "metadata": {
    "scrolled": true
   },
   "outputs": [],
   "source": [
    "# train_augmented_images_dict = augment_images(train_less_than_largestMean_dict, train_largest_5_mean)"
   ]
  },
  {
   "cell_type": "code",
   "execution_count": 26,
   "metadata": {
    "scrolled": false
   },
   "outputs": [],
   "source": [
    "# valid_augmented_images_dict = augment_images(valid_less_than_largestMean_dict, valid_largest_5_mean)"
   ]
  },
  {
   "cell_type": "code",
   "execution_count": 27,
   "metadata": {
    "scrolled": true
   },
   "outputs": [],
   "source": [
    "# test_augmented_images_dict = augment_images(test_less_than_largestMean_dict, test_largest_5_mean)"
   ]
  },
  {
   "cell_type": "code",
   "execution_count": 29,
   "metadata": {
    "scrolled": true
   },
   "outputs": [],
   "source": [
    "# # combine the old and augmented image datasets in a new dictionary\n",
    "\n",
    "# appended_X_train = normalized_X_train\n",
    "# appended_y_train = y_train\n",
    "# for sign_number in range(n_classes):\n",
    "#     print(f\"Starting {sign_number} merge...\")\n",
    "#     if (train_augmented_images_dict[sign_number]) == 0:\n",
    "#         print(f\"{sign_number} skipped\")\n",
    "#         pass\n",
    "#     else:\n",
    "#         count=0\n",
    "#         for img in np.asarray(train_augmented_images_dict[sign_number]):\n",
    "#             appended_X_train = np.append(appended_X_train, np.expand_dims(img, axis=0), axis=0)\n",
    "#             appended_y_train = np.append(appended_y_train, sign_number)\n",
    "#             count += 1\n",
    "#             if count % 200 == 0:\n",
    "#                 print(f\"on image {count} from sign number : {sign_number}\")\n",
    "#                 print(f\"have left {len(train_augmented_images_dict[sign_number]) - count} images to go...\")\n",
    "#                 print(f\"{count/len(train_augmented_images_dict[sign_number])}% completed...\")\n",
    "#     print(f\"Finished {sign_number}...\")\n",
    "    \n",
    "# # save the appended data cause it takes long\n",
    "# with open('../data/X_train.pickle', 'wb') as f:\n",
    "#     pickle.dump(appended_X_train, f)\n",
    "# with open('../data/y_train.pickle', 'wb') as f:\n",
    "#     pickle.dump(appended_y_train, f)"
   ]
  },
  {
   "cell_type": "code",
   "execution_count": 30,
   "metadata": {},
   "outputs": [],
   "source": [
    "# found to be useless\n",
    "with open('../data/X_train.pickle', 'rb') as f:\n",
    "    appended_X_train = pickle.load(f)\n",
    "with open('../data/y_train.pickle', 'rb') as f:\n",
    "    appended_y_train = pickle.load(f)"
   ]
  },
  {
   "cell_type": "code",
   "execution_count": 31,
   "metadata": {},
   "outputs": [
    {
     "name": "stdout",
     "output_type": "stream",
     "text": [
      "(34799, 32, 32, 1)\n"
     ]
    }
   ],
   "source": [
    "# print(np.asarray(train_augmented_images_dict[0]).shape)\n",
    "print(normalized_X_train.shape)"
   ]
  },
  {
   "cell_type": "code",
   "execution_count": 32,
   "metadata": {},
   "outputs": [
    {
     "data": {
      "text/plain": [
       "[<matplotlib.lines.Line2D at 0x7f15d65432e8>]"
      ]
     },
     "execution_count": 32,
     "metadata": {},
     "output_type": "execute_result"
    },
    {
     "data": {
      "image/png": "[encoded data removed]",
      "text/plain": [
       "<matplotlib.figure.Figure at 0x7f16128be0f0>"
      ]
     },
     "metadata": {
      "needs_background": "light"
     },
     "output_type": "display_data"
    }
   ],
   "source": [
    "plt.plot(np.histogram(appended_y_train,bins=42)[0])"
   ]
  },
  {
   "cell_type": "markdown",
   "metadata": {},
   "source": [
    "### Model Architecture"
   ]
  },
  {
   "cell_type": "code",
   "execution_count": 33,
   "metadata": {},
   "outputs": [],
   "source": [
    "### Define your architecture here.\n",
    "### Feel free to use as many code cells as needed."
   ]
  },
  {
   "cell_type": "code",
   "execution_count": 34,
   "metadata": {},
   "outputs": [],
   "source": [
    "import tensorflow as tf\n",
    "\n",
    "def model(input):\n",
    "    mu = 0\n",
    "    sigma = 0.1\n",
    "    \n",
    "    # layer 1 convolution : 32x32x1 -> 28x28x16\n",
    "    conv1_w = tf.Variable(tf.truncated_normal(shape=(5,5,1,16), mean=mu, stddev=sigma))\n",
    "    conv1_b = tf.Variable(tf.zeros(16))\n",
    "    conv1 = tf.nn.conv2d(input, conv1_w, strides=[1,1,1,1], padding='VALID') + conv1_b\n",
    "    \n",
    "    # activation function\n",
    "    conv1 = tf.nn.relu(conv1)\n",
    "    \n",
    "    # max pool 1 : 28x28x16 -> 14x14x16\n",
    "    conv1 = tf.nn.max_pool(conv1, ksize=[1,2,2,1], strides=[1,2,2,1], padding='VALID')\n",
    "    \n",
    "    # dropout 1\n",
    "#     conv1 = tf.nn.dropout(conv1, keep_prob=keep_prob)\n",
    "    \n",
    "    \n",
    "    # layer 2 convolution : 14x14x16 -> 10x10x64\n",
    "    conv2_w = tf.Variable(tf.truncated_normal(shape=(5,5,16,64), mean=mu, stddev=sigma))\n",
    "    conv2_b = tf.Variable(tf.zeros(64))\n",
    "    conv2 = tf.nn.conv2d(conv1, conv2_w, strides=[1,1,1,1], padding='VALID') + conv2_b\n",
    "    \n",
    "    # activation function\n",
    "    conv2 = tf.nn.relu(conv2)\n",
    "    \n",
    "    # max pool 2 : 10x10x64 -> 5x5x64\n",
    "    conv2 = tf.nn.max_pool(conv2, ksize=[1,2,2,1], strides=[1,2,2,1], padding='VALID')\n",
    "    \n",
    "    # dropout 2 \n",
    "    conv2 = tf.nn.dropout(conv2, keep_prob=keep_prob)\n",
    "    \n",
    "    # layer 3 convolution : 5x5x64 -> 3x3x128\n",
    "    conv3_w = tf.Variable(tf.truncated_normal(shape=(3,3,64,128), mean=mu, stddev=sigma))\n",
    "    conv3_b = tf.Variable(tf.zeros(128))\n",
    "    conv3 = tf.nn.conv2d(conv2, conv3_w, strides=[1,1,1,1], padding='VALID') + conv3_b\n",
    "    \n",
    "    # activation\n",
    "    conv3 = tf.nn.relu(conv3)\n",
    "    \n",
    "    # dropout3\n",
    "#     conv3 = tf.nn.dropout(conv3, keep_prob=keep_prob)\n",
    "    \n",
    "#     conv4_w = tf.Variable(tf.truncated_normal(shape=(1,1,128,256), mean=mu, stddev=sigma))\n",
    "#     conv4_b = tf.Variable(tf.zeros(256))\n",
    "#     conv4 = tf.nn.conv2d(conv3, conv4_w, strides=[1,1,1,1], padding='VALID') + conv4_b\n",
    "    \n",
    "#     # activation\n",
    "#     conv4 = tf.nn.relu(conv4)\n",
    "    \n",
    "    # dropout3\n",
    "#     conv4 = tf.nn.dropout(conv4, keep_prob=keep_prob)\n",
    "    \n",
    "    # layer 4 linear : 3x3x256 -> 2304\n",
    "    flt0 = tf.contrib.layers.flatten(conv3)\n",
    "    \n",
    "    # 1152 -> 500 \n",
    "    linear1_w = tf.Variable(tf.truncated_normal(shape=(1152, 500), mean=mu, stddev=sigma))\n",
    "    linear1_b = tf.Variable(tf.zeros(500))\n",
    "    linear1 = tf.add(tf.matmul(flt0, linear1_w), linear1_b)\n",
    "    \n",
    "    # activation function\n",
    "    linear1 = tf.nn.relu(linear1)\n",
    "    linear1 = tf.nn.dropout(linear1, keep_prob=keep_prob)\n",
    "    \n",
    "    # layer 5 linear : 500 -> 100\n",
    "    linear2_w = tf.Variable(tf.truncated_normal(shape=(500, 100), mean=mu, stddev=sigma))\n",
    "    linear2_b = tf.Variable(tf.zeros(100))\n",
    "    linear2 = tf.add(tf.matmul(linear1, linear2_w), linear2_b)\n",
    "    \n",
    "    # activation func\n",
    "    linear2 = tf.nn.relu(linear2)\n",
    "    linear2 = tf.nn.dropout(linear2, keep_prob=keep_prob)\n",
    "    \n",
    "    # layer 6 linear : 100 -> 43\n",
    "    linear3_w = tf.Variable(tf.truncated_normal(shape=(100,43), mean=mu, stddev=sigma))\n",
    "    linear3_b = tf.Variable(tf.zeros(43))\n",
    "    logits = tf.add(tf.matmul(linear2, linear3_w), linear3_b)\n",
    "    \n",
    "    return logits"
   ]
  },
  {
   "cell_type": "markdown",
   "metadata": {},
   "source": [
    "### Train, Validate and Test the Model"
   ]
  },
  {
   "cell_type": "markdown",
   "metadata": {},
   "source": [
    "A validation set can be used to assess how well the model is performing. A low accuracy on the training and validation\n",
    "sets imply underfitting. A high accuracy on the training set but low accuracy on the validation set implies overfitting."
   ]
  },
  {
   "cell_type": "code",
   "execution_count": 35,
   "metadata": {},
   "outputs": [],
   "source": [
    "### Train your model here.\n",
    "### Calculate and report the accuracy on the training and validation set.\n",
    "### Once a final model architecture is selected, \n",
    "### the accuracy on the test set should be calculated and reported as well.\n",
    "### Feel free to use as many code cells as needed."
   ]
  },
  {
   "cell_type": "code",
   "execution_count": 36,
   "metadata": {},
   "outputs": [],
   "source": [
    "batch_size = 128\n",
    "n_epoch = 150\n",
    "learning_rate = 0.0001\n",
    "\n",
    "x = tf.placeholder(tf.float32, (None, 32, 32, 1))\n",
    "y = tf.placeholder(tf.int32, (None))\n",
    "one_hot_y = tf.one_hot(y, 43)\n",
    "\n",
    "keep_prob = tf.placeholder(tf.float32)"
   ]
  },
  {
   "cell_type": "code",
   "execution_count": 37,
   "metadata": {},
   "outputs": [],
   "source": [
    "y_pred = model(x)\n",
    "cross_entropy = tf.nn.softmax_cross_entropy_with_logits(labels=one_hot_y, logits=y_pred)\n",
    "loss_function = tf.reduce_mean(cross_entropy)\n",
    "optimizer = tf.train.AdamOptimizer(learning_rate = learning_rate)\n",
    "train_operation = optimizer.minimize(loss_function)"
   ]
  },
  {
   "cell_type": "code",
   "execution_count": 38,
   "metadata": {},
   "outputs": [],
   "source": [
    "correct_prediction = tf.equal(tf.argmax(y_pred, 1), tf.argmax(one_hot_y, 1))\n",
    "accuracy_prediction = tf.reduce_mean(tf.cast(correct_prediction, tf.float32))\n",
    "saver = tf.train.Saver()"
   ]
  },
  {
   "cell_type": "code",
   "execution_count": 39,
   "metadata": {},
   "outputs": [],
   "source": [
    "def evaluate(X_train, y_train):\n",
    "    n_example = len(y_train)\n",
    "    total_accuracy = 0\n",
    "    sess = tf.get_default_session()\n",
    "    for i in range(0, n_example, batch_size):\n",
    "        batch_x = X_train[i:i+batch_size]\n",
    "        batch_y = y_train[i:i+batch_size]\n",
    "        \n",
    "        accuracy = sess.run(accuracy_prediction, feed_dict={x:batch_x, y:batch_y, keep_prob:1})\n",
    "        total_accuracy += (accuracy * len(batch_x))\n",
    "    return total_accuracy / n_example"
   ]
  },
  {
   "cell_type": "code",
   "execution_count": 40,
   "metadata": {},
   "outputs": [],
   "source": [
    "from sklearn.utils import shuffle\n",
    "\n",
    "X_train, y_train= shuffle(normalized_X_train, y_train)\n",
    "X_valid, y_valid = shuffle(normalized_X_valid, y_valid)       \n",
    "\n",
    "# The same file as we saved earlier\n",
    "model_checkpoint = 'model.chkpt'\n",
    "# Create a saver so we can save and load the model as we train it\n",
    "tf_saver = tf.train.Saver()\n"
   ]
  },
  {
   "cell_type": "code",
   "execution_count": 41,
   "metadata": {},
   "outputs": [
    {
     "name": "stdout",
     "output_type": "stream",
     "text": [
      "Training...\n",
      "EPOCH 0...\n",
      "Loss at batch 12672: 4.149603843688965\n",
      "Loss at batch 25472: 3.93259334564209\n",
      "Training Accuracy = 0.060145406493255366\n",
      "Validation Accuracy = 0.05578231292348059\n",
      "EPOCH 1...\n",
      "Loss at batch 12672: 3.759368896484375\n",
      "Loss at batch 25472: 3.727059841156006\n",
      "Training Accuracy = 0.08000229891834836\n",
      "Validation Accuracy = 0.06009070294615633\n",
      "EPOCH 2...\n",
      "Loss at batch 12672: 3.6469829082489014\n",
      "Loss at batch 25472: 3.6954891681671143\n",
      "Training Accuracy = 0.08586453637322042\n",
      "Validation Accuracy = 0.06303854872580288\n",
      "EPOCH 3...\n",
      "Loss at batch 12672: 3.6540029048919678\n",
      "Loss at batch 25472: 3.6708221435546875\n",
      "Training Accuracy = 0.07414006150158668\n",
      "Validation Accuracy = 0.0723356008799979\n",
      "EPOCH 4...\n",
      "Loss at batch 12672: 3.6375911235809326\n",
      "Loss at batch 25472: 3.5868442058563232\n",
      "Training Accuracy = 0.07250208341204205\n",
      "Validation Accuracy = 0.07414965983691399\n",
      "EPOCH 5...\n",
      "Loss at batch 12672: 3.6329283714294434\n",
      "Loss at batch 25472: 3.504438638687134\n",
      "Training Accuracy = 0.08350814679139386\n",
      "Validation Accuracy = 0.07800453516766598\n",
      "EPOCH 6...\n",
      "Loss at batch 12672: 3.5390379428863525\n",
      "Loss at batch 25472: 3.5603532791137695\n",
      "Training Accuracy = 0.12905543264236158\n",
      "Validation Accuracy = 0.11904761901720852\n",
      "EPOCH 7...\n",
      "Loss at batch 12672: 3.527289628982544\n",
      "Loss at batch 25472: 3.5053064823150635\n",
      "Training Accuracy = 0.16698755710771526\n",
      "Validation Accuracy = 0.14625850337095\n",
      "EPOCH 8...\n",
      "Loss at batch 12672: 3.3951613903045654\n",
      "Loss at batch 25472: 3.4120941162109375\n",
      "Training Accuracy = 0.2210120981130255\n",
      "Validation Accuracy = 0.19274376413854613\n",
      "EPOCH 9...\n",
      "Loss at batch 12672: 3.375582218170166\n",
      "Loss at batch 25472: 3.3184432983398438\n",
      "Training Accuracy = 0.29098537319172196\n",
      "Validation Accuracy = 0.2573696144516506\n",
      "EPOCH 10...\n",
      "Loss at batch 12672: 3.285134792327881\n",
      "Loss at batch 25472: 3.145603656768799\n",
      "Training Accuracy = 0.35095836087929017\n",
      "Validation Accuracy = 0.3185941042948742\n",
      "EPOCH 11...\n",
      "Loss at batch 12672: 3.1947708129882812\n",
      "Loss at batch 25472: 3.0487194061279297\n",
      "Training Accuracy = 0.39914940087825196\n",
      "Validation Accuracy = 0.3696145125527501\n",
      "EPOCH 12...\n",
      "Loss at batch 12672: 2.8921804428100586\n",
      "Loss at batch 25472: 2.8263468742370605\n",
      "Training Accuracy = 0.44225408776028613\n",
      "Validation Accuracy = 0.39637188216726255\n",
      "EPOCH 13...\n",
      "Loss at batch 12672: 2.643777370452881\n",
      "Loss at batch 25472: 2.7533223628997803\n",
      "Training Accuracy = 0.47610563523567473\n",
      "Validation Accuracy = 0.42176870753705636\n",
      "EPOCH 14...\n",
      "Loss at batch 12672: 2.4888648986816406\n",
      "Loss at batch 25472: 2.5595862865448\n",
      "Training Accuracy = 0.4981752349976209\n",
      "Validation Accuracy = 0.4546485261041291\n",
      "EPOCH 15...\n",
      "Loss at batch 12672: 2.377559185028076\n",
      "Loss at batch 25472: 2.3740696907043457\n",
      "Training Accuracy = 0.5182620190663558\n",
      "Validation Accuracy = 0.4734693877821336\n",
      "EPOCH 16...\n",
      "Loss at batch 12672: 2.3486135005950928\n",
      "Loss at batch 25472: 2.273426055908203\n",
      "Training Accuracy = 0.5325440386474919\n",
      "Validation Accuracy = 0.4843537413749565\n",
      "EPOCH 17...\n",
      "Loss at batch 12672: 2.038086175918579\n",
      "Loss at batch 25472: 2.2928335666656494\n",
      "Training Accuracy = 0.5498433862613835\n",
      "Validation Accuracy = 0.5036281173732005\n",
      "EPOCH 18...\n",
      "Loss at batch 12672: 1.9312536716461182\n",
      "Loss at batch 25472: 1.963173270225525\n",
      "Training Accuracy = 0.5809074974377959\n",
      "Validation Accuracy = 0.5315192745926699\n",
      "EPOCH 19...\n",
      "Loss at batch 12672: 1.9117612838745117\n",
      "Loss at batch 25472: 1.9094942808151245\n",
      "Training Accuracy = 0.6005632346373679\n",
      "Validation Accuracy = 0.5487528346833729\n",
      "EPOCH 20...\n",
      "Loss at batch 12672: 1.7347601652145386\n",
      "Loss at batch 25472: 1.7766669988632202\n",
      "Training Accuracy = 0.6398747091923792\n",
      "Validation Accuracy = 0.5995464854499921\n",
      "EPOCH 21...\n",
      "Loss at batch 12672: 1.5800284147262573\n",
      "Loss at batch 25472: 1.7987500429153442\n",
      "Training Accuracy = 0.6552199777174504\n",
      "Validation Accuracy = 0.609977323911628\n",
      "EPOCH 22...\n",
      "Loss at batch 12672: 1.6819816827774048\n",
      "Loss at batch 25472: 1.679702639579773\n",
      "Training Accuracy = 0.6865139802987796\n",
      "Validation Accuracy = 0.6539682538601276\n",
      "EPOCH 23...\n",
      "Loss at batch 12672: 1.5275650024414062\n",
      "Loss at batch 25472: 1.4929232597351074\n",
      "Training Accuracy = 0.7106813415514573\n",
      "Validation Accuracy = 0.6750566889639614\n",
      "EPOCH 24...\n",
      "Loss at batch 12672: 1.4315240383148193\n",
      "Loss at batch 25472: 1.4092931747436523\n",
      "Training Accuracy = 0.7343027099815846\n",
      "Validation Accuracy = 0.7163265299634869\n",
      "EPOCH 25...\n",
      "Loss at batch 12672: 1.3597323894500732\n",
      "Loss at batch 25472: 1.4406630992889404\n",
      "Training Accuracy = 0.7547343315627781\n",
      "Validation Accuracy = 0.7333333334684913\n",
      "EPOCH 26...\n",
      "Loss at batch 12672: 1.3068159818649292\n",
      "Loss at batch 25472: 1.4188605546951294\n",
      "Training Accuracy = 0.7695910803027981\n",
      "Validation Accuracy = 0.7451247161478142\n",
      "EPOCH 27...\n",
      "Loss at batch 12672: 1.1825178861618042\n",
      "Loss at batch 25472: 1.2984893321990967\n",
      "Training Accuracy = 0.7887870341923913\n",
      "Validation Accuracy = 0.7741496594584718\n",
      "EPOCH 28...\n",
      "Loss at batch 12672: 1.3220338821411133\n",
      "Loss at batch 25472: 1.245518445968628\n",
      "Training Accuracy = 0.8069772122098049\n",
      "Validation Accuracy = 0.7897959179348416\n",
      "EPOCH 29...\n",
      "Loss at batch 12672: 1.1830476522445679\n",
      "Loss at batch 25472: 1.162051796913147\n",
      "Training Accuracy = 0.8159429870370085\n",
      "Validation Accuracy = 0.8006802716763382\n",
      "EPOCH 30...\n",
      "Loss at batch 12672: 1.0077159404754639\n",
      "Loss at batch 25472: 1.22709321975708\n",
      "Training Accuracy = 0.8245926609124674\n",
      "Validation Accuracy = 0.8111111114354901\n",
      "EPOCH 31...\n",
      "Loss at batch 12672: 1.0602580308914185\n",
      "Loss at batch 25472: 1.110866904258728\n",
      "Training Accuracy = 0.8413460158254193\n",
      "Validation Accuracy = 0.8315192741871962\n",
      "EPOCH 32...\n",
      "Loss at batch 12672: 1.0650417804718018\n",
      "Loss at batch 25472: 1.1692993640899658\n",
      "Training Accuracy = 0.8602833415763865\n",
      "Validation Accuracy = 0.8385487528885303\n",
      "EPOCH 33...\n",
      "Loss at batch 12672: 0.9895198345184326\n",
      "Loss at batch 25472: 0.8543403148651123\n",
      "Training Accuracy = 0.8618638467804455\n",
      "Validation Accuracy = 0.8428571431815218\n",
      "EPOCH 34...\n",
      "Loss at batch 12672: 0.9648934602737427\n",
      "Loss at batch 25472: 0.9781075716018677\n",
      "Training Accuracy = 0.860570706190085\n",
      "Validation Accuracy = 0.8374149657971734\n",
      "EPOCH 35...\n",
      "Loss at batch 12672: 0.8272292017936707\n",
      "Loss at batch 25472: 1.0434541702270508\n",
      "Training Accuracy = 0.874852725771221\n",
      "Validation Accuracy = 0.8557823132495491\n",
      "EPOCH 36...\n",
      "Loss at batch 12672: 0.9936020374298096\n",
      "Loss at batch 25472: 1.0153883695602417\n",
      "Training Accuracy = 0.8826403058569693\n",
      "Validation Accuracy = 0.8648526077638138\n",
      "EPOCH 37...\n",
      "Loss at batch 12672: 0.828507661819458\n",
      "Loss at batch 25472: 0.9021974802017212\n",
      "Training Accuracy = 0.8841058652121232\n",
      "Validation Accuracy = 0.8598639459026103\n",
      "EPOCH 38...\n",
      "Loss at batch 12672: 0.8414280414581299\n",
      "Loss at batch 25472: 0.901284396648407\n",
      "Training Accuracy = 0.8949395098228277\n",
      "Validation Accuracy = 0.8684807259479618\n",
      "EPOCH 39...\n",
      "Loss at batch 12672: 0.697750449180603\n",
      "Loss at batch 25472: 0.7541226744651794\n",
      "Training Accuracy = 0.9043075950955066\n",
      "Validation Accuracy = 0.8775510201919106\n",
      "EPOCH 40...\n",
      "Loss at batch 12672: 0.7892772555351257\n",
      "Loss at batch 25472: 0.8244549632072449\n",
      "Training Accuracy = 0.902583407618855\n",
      "Validation Accuracy = 0.8780045352014555\n",
      "EPOCH 41...\n",
      "Loss at batch 12672: 0.7184522151947021\n",
      "Loss at batch 25472: 0.8398650288581848\n",
      "Training Accuracy = 0.9123250668619367\n",
      "Validation Accuracy = 0.8839002265411169\n",
      "EPOCH 42...\n",
      "Loss at batch 12672: 0.6706035137176514\n",
      "Loss at batch 25472: 0.5934563279151917\n",
      "Training Accuracy = 0.913417052402555\n",
      "Validation Accuracy = 0.8900226757910247\n",
      "EPOCH 43...\n",
      "Loss at batch 12672: 0.7784907817840576\n",
      "Loss at batch 25472: 0.8180431723594666\n",
      "Training Accuracy = 0.9135032616547769\n",
      "Validation Accuracy = 0.8909297049991668\n",
      "EPOCH 44...\n",
      "Loss at batch 12672: 0.7801765203475952\n",
      "Loss at batch 25472: 0.737962007522583\n",
      "Training Accuracy = 0.9221816720584058\n",
      "Validation Accuracy = 0.8934240363352423\n",
      "EPOCH 45...\n",
      "Loss at batch 12672: 0.6866061091423035\n",
      "Loss at batch 25472: 0.6972334980964661\n",
      "Training Accuracy = 0.9207448492125809\n",
      "Validation Accuracy = 0.8959183671306861\n",
      "EPOCH 46...\n",
      "Loss at batch 12672: 0.7331913709640503\n",
      "Loss at batch 25472: 0.8813074827194214\n",
      "Training Accuracy = 0.9259461480490953\n",
      "Validation Accuracy = 0.895918367401002\n",
      "EPOCH 47...\n",
      "Loss at batch 12672: 0.6562226414680481\n",
      "Loss at batch 25472: 0.6225583553314209\n",
      "Training Accuracy = 0.9251127907515854\n",
      "Validation Accuracy = 0.8963718818699151\n",
      "EPOCH 48...\n"
     ]
    },
    {
     "name": "stdout",
     "output_type": "stream",
     "text": [
      "Loss at batch 12672: 0.5798162221908569\n",
      "Loss at batch 25472: 0.7456992864608765\n",
      "Training Accuracy = 0.929394522968142\n",
      "Validation Accuracy = 0.9052154192848811\n",
      "EPOCH 49...\n",
      "Loss at batch 12672: 0.6141818165779114\n",
      "Loss at batch 25472: 0.6893516778945923\n",
      "Training Accuracy = 0.9327566885476126\n",
      "Validation Accuracy = 0.9006802718925908\n",
      "EPOCH 50...\n",
      "Loss at batch 12672: 0.7104663848876953\n",
      "Loss at batch 25472: 0.5468465089797974\n",
      "Training Accuracy = 0.9325842697999475\n",
      "Validation Accuracy = 0.9108843535252439\n",
      "EPOCH 51...\n",
      "Loss at batch 12672: 0.5615689158439636\n",
      "Loss at batch 25472: 0.6819005012512207\n",
      "Training Accuracy = 0.9358889624464015\n",
      "Validation Accuracy = 0.9052154195551969\n",
      "EPOCH 52...\n",
      "Loss at batch 12672: 0.6346756219863892\n",
      "Loss at batch 25472: 0.5412697792053223\n",
      "Training Accuracy = 0.9312049198357544\n",
      "Validation Accuracy = 0.9063492061329537\n",
      "EPOCH 53...\n",
      "Loss at batch 12672: 0.6548261046409607\n",
      "Loss at batch 25472: 0.654739499092102\n",
      "Training Accuracy = 0.9392511280430004\n",
      "Validation Accuracy = 0.9147392288086906\n",
      "EPOCH 54...\n",
      "Loss at batch 12672: 0.5516725778579712\n",
      "Loss at batch 25472: 0.6653319001197815\n",
      "Training Accuracy = 0.9413201529635976\n",
      "Validation Accuracy = 0.9113378682644729\n",
      "EPOCH 55...\n",
      "Loss at batch 12672: 0.5673113465309143\n",
      "Loss at batch 25472: 0.5566321611404419\n",
      "Training Accuracy = 0.9426132935710863\n",
      "Validation Accuracy = 0.9151927432776038\n",
      "EPOCH 56...\n",
      "Loss at batch 12672: 0.708203911781311\n",
      "Loss at batch 25472: 0.5955476760864258\n",
      "Training Accuracy = 0.9435041237673563\n",
      "Validation Accuracy = 0.9138321996005484\n",
      "EPOCH 57...\n",
      "Loss at batch 12672: 0.6046451330184937\n",
      "Loss at batch 25472: 0.6062917709350586\n",
      "Training Accuracy = 0.9457168310290592\n",
      "Validation Accuracy = 0.9208616777882824\n",
      "EPOCH 58...\n",
      "Loss at batch 12672: 0.5367578268051147\n",
      "Loss at batch 25472: 0.5523234605789185\n",
      "Training Accuracy = 0.944940946664566\n",
      "Validation Accuracy = 0.9124716553828613\n",
      "EPOCH 59...\n",
      "Loss at batch 12672: 0.5204142928123474\n",
      "Loss at batch 25472: 0.5522445440292358\n",
      "Training Accuracy = 0.9471823904013413\n",
      "Validation Accuracy = 0.923129251457396\n",
      "EPOCH 60...\n",
      "Loss at batch 12672: 0.5227749347686768\n",
      "Loss at batch 25472: 0.5958305597305298\n",
      "Training Accuracy = 0.9474122820648949\n",
      "Validation Accuracy = 0.919727890669894\n",
      "EPOCH 61...\n",
      "Loss at batch 12672: 0.5285158157348633\n",
      "Loss at batch 25472: 0.5761014223098755\n",
      "Training Accuracy = 0.9470674445695646\n",
      "Validation Accuracy = 0.9172335596041344\n",
      "EPOCH 62...\n",
      "Loss at batch 12672: 0.5123451948165894\n",
      "Loss at batch 25472: 0.46981221437454224\n",
      "Training Accuracy = 0.9497399351412463\n",
      "Validation Accuracy = 0.9265306122719296\n",
      "EPOCH 63...\n",
      "Loss at batch 12672: 0.5323829650878906\n",
      "Loss at batch 25472: 0.42458319664001465\n",
      "Training Accuracy = 0.9523836892721121\n",
      "Validation Accuracy = 0.929478457563318\n",
      "EPOCH 64...\n",
      "Loss at batch 12672: 0.443278044462204\n",
      "Loss at batch 25472: 0.4895811378955841\n",
      "Training Accuracy = 0.9525848444777215\n",
      "Validation Accuracy = 0.9258503396494859\n",
      "EPOCH 65...\n",
      "Loss at batch 12672: 0.43674230575561523\n",
      "Loss at batch 25472: 0.4391176700592041\n",
      "Training Accuracy = 0.953877985068082\n",
      "Validation Accuracy = 0.9340136051988926\n",
      "EPOCH 66...\n",
      "Loss at batch 12672: 0.44439443945884705\n",
      "Loss at batch 25472: 0.4998273551464081\n",
      "Training Accuracy = 0.9548550246553129\n",
      "Validation Accuracy = 0.9299319720322312\n",
      "EPOCH 67...\n",
      "Loss at batch 12672: 0.34736788272857666\n",
      "Loss at batch 25472: 0.5862537622451782\n",
      "Training Accuracy = 0.9585045547970972\n",
      "Validation Accuracy = 0.9321995457283764\n",
      "EPOCH 68...\n",
      "Loss at batch 12672: 0.3444790542125702\n",
      "Loss at batch 25472: 0.5637515783309937\n",
      "Training Accuracy = 0.9578436162643807\n",
      "Validation Accuracy = 0.9292516999233877\n",
      "EPOCH 69...\n",
      "Loss at batch 12672: 0.3824491500854492\n",
      "Loss at batch 25472: 0.48255157470703125\n",
      "Training Accuracy = 0.9590792839559811\n",
      "Validation Accuracy = 0.9324263030979909\n",
      "EPOCH 70...\n",
      "Loss at batch 12672: 0.3856778144836426\n",
      "Loss at batch 25472: 0.40274471044540405\n",
      "Training Accuracy = 0.9593379120603506\n",
      "Validation Accuracy = 0.9326530609812055\n",
      "EPOCH 71...\n",
      "Loss at batch 12672: 0.42918965220451355\n",
      "Loss at batch 25472: 0.3905653655529022\n",
      "Training Accuracy = 0.9575849881600113\n",
      "Validation Accuracy = 0.9344671194245215\n",
      "EPOCH 72...\n",
      "Loss at batch 12672: 0.400345116853714\n",
      "Loss at batch 25472: 0.441784143447876\n",
      "Training Accuracy = 0.9597402224886975\n",
      "Validation Accuracy = 0.938095238365554\n",
      "EPOCH 73...\n",
      "Loss at batch 12672: 0.42689788341522217\n",
      "Loss at batch 25472: 0.3684135377407074\n",
      "Training Accuracy = 0.9619816662083447\n",
      "Validation Accuracy = 0.9396825399528556\n",
      "EPOCH 74...\n",
      "Loss at batch 12672: 0.41789695620536804\n",
      "Loss at batch 25472: 0.483340859413147\n",
      "Training Accuracy = 0.9607172620588001\n",
      "Validation Accuracy = 0.9378684796984234\n",
      "EPOCH 75...\n",
      "Loss at batch 12672: 0.5354081392288208\n",
      "Loss at batch 25472: 0.3960834741592407\n",
      "Training Accuracy = 0.9620966120401214\n",
      "Validation Accuracy = 0.9337868478292781\n",
      "EPOCH 76...\n",
      "Loss at batch 12672: 0.5307711958885193\n",
      "Loss at batch 25472: 0.31304487586021423\n",
      "Training Accuracy = 0.9619816662083447\n",
      "Validation Accuracy = 0.9360544215254232\n",
      "EPOCH 77...\n",
      "Loss at batch 12672: 0.2679378092288971\n",
      "Loss at batch 25472: 0.39910852909088135\n",
      "Training Accuracy = 0.9635046984965152\n",
      "Validation Accuracy = 0.9419501136490006\n",
      "EPOCH 78...\n",
      "Loss at batch 12672: 0.3685048222541809\n",
      "Loss at batch 25472: 0.40735751390457153\n",
      "Training Accuracy = 0.964596683864138\n",
      "Validation Accuracy = 0.9399092973224701\n",
      "EPOCH 79...\n",
      "Loss at batch 12672: 0.38552725315093994\n",
      "Loss at batch 25472: 0.48558273911476135\n",
      "Training Accuracy = 0.964998994292485\n",
      "Validation Accuracy = 0.9442176873451458\n",
      "EPOCH 80...\n",
      "Loss at batch 12672: 0.3203674554824829\n",
      "Loss at batch 25472: 0.4132796823978424\n",
      "Training Accuracy = 0.9656599328252015\n",
      "Validation Accuracy = 0.939002267844012\n",
      "EPOCH 81...\n",
      "Loss at batch 12672: 0.42456215620040894\n",
      "Loss at batch 25472: 0.4440690577030182\n",
      "Training Accuracy = 0.9636771172270521\n",
      "Validation Accuracy = 0.9424036283882297\n",
      "EPOCH 82...\n",
      "Loss at batch 12672: 0.2848016917705536\n",
      "Loss at batch 25472: 0.41594260931015015\n",
      "Training Accuracy = 0.9649989942753567\n",
      "Validation Accuracy = 0.939455782583241\n",
      "EPOCH 83...\n",
      "Loss at batch 12672: 0.41703006625175476\n",
      "Loss at batch 25472: 0.34016934037208557\n",
      "Training Accuracy = 0.9655737234513689\n",
      "Validation Accuracy = 0.9433106578666878\n",
      "EPOCH 84...\n",
      "Loss at batch 12672: 0.46627986431121826\n",
      "Loss at batch 25472: 0.3761173486709595\n",
      "Training Accuracy = 0.9664070807146222\n",
      "Validation Accuracy = 0.9435374152363022\n",
      "EPOCH 85...\n",
      "Loss at batch 12672: 0.3303240239620209\n",
      "Loss at batch 25472: 0.3639606535434723\n",
      "Training Accuracy = 0.966809391125841\n",
      "Validation Accuracy = 0.9448979594539894\n",
      "EPOCH 86...\n",
      "Loss at batch 12672: 0.41445285081863403\n",
      "Loss at batch 25472: 0.4028396010398865\n",
      "Training Accuracy = 0.9681312681912738\n",
      "Validation Accuracy = 0.9442176873451458\n",
      "EPOCH 87...\n",
      "Loss at batch 12672: 0.33792123198509216\n",
      "Loss at batch 25472: 0.3433566689491272\n",
      "Training Accuracy = 0.9671542286211713\n",
      "Validation Accuracy = 0.9458049889324474\n",
      "EPOCH 88...\n",
      "Loss at batch 12672: 0.3232438266277313\n",
      "Loss at batch 25472: 0.416292279958725\n",
      "Training Accuracy = 0.9681887411071622\n",
      "Validation Accuracy = 0.9460317463020619\n",
      "EPOCH 89...\n",
      "Loss at batch 12672: 0.2703043520450592\n",
      "Loss at batch 25472: 0.3513270914554596\n",
      "Training Accuracy = 0.9701428202473674\n",
      "Validation Accuracy = 0.948299319998207\n",
      "EPOCH 90...\n",
      "Loss at batch 12672: 0.31913718581199646\n",
      "Loss at batch 25472: 0.4313278794288635\n",
      "Training Accuracy = 0.9696543004623162\n",
      "Validation Accuracy = 0.9507936510639666\n",
      "EPOCH 91...\n",
      "Loss at batch 12672: 0.3385029137134552\n",
      "Loss at batch 25472: 0.3176213800907135\n",
      "Training Accuracy = 0.9685623150604368\n",
      "Validation Accuracy = 0.9482993194846069\n",
      "EPOCH 92...\n",
      "Loss at batch 12672: 0.27954864501953125\n",
      "Loss at batch 25472: 0.38547807931900024\n",
      "Training Accuracy = 0.9698554556679255\n",
      "Validation Accuracy = 0.950566893180752\n",
      "EPOCH 93...\n",
      "Loss at batch 12672: 0.3937365412712097\n",
      "Loss at batch 25472: 0.41214632987976074\n",
      "Training Accuracy = 0.9704014483688652\n",
      "Validation Accuracy = 0.949206349476665\n",
      "EPOCH 94...\n",
      "Loss at batch 12672: 0.38042354583740234\n",
      "Loss at batch 25472: 0.32137006521224976\n",
      "Training Accuracy = 0.9713784879389677\n",
      "Validation Accuracy = 0.9505668936943521\n",
      "EPOCH 95...\n",
      "Loss at batch 12672: 0.2701270878314972\n",
      "Loss at batch 25472: 0.3668428659439087\n",
      "Training Accuracy = 0.9699704015168306\n",
      "Validation Accuracy = 0.9514739231728102\n",
      "EPOCH 96...\n"
     ]
    },
    {
     "name": "stdout",
     "output_type": "stream",
     "text": [
      "Loss at batch 12672: 0.26023387908935547\n",
      "Loss at batch 25472: 0.34642934799194336\n",
      "Training Accuracy = 0.9706313400324187\n",
      "Validation Accuracy = 0.949206349476665\n",
      "EPOCH 97...\n",
      "Loss at batch 12672: 0.3366670310497284\n",
      "Loss at batch 25472: 0.28441163897514343\n",
      "Training Accuracy = 0.9710911233595259\n",
      "Validation Accuracy = 0.9503401363247376\n",
      "EPOCH 98...\n",
      "Loss at batch 12672: 0.37621474266052246\n",
      "Loss at batch 25472: 0.35864222049713135\n",
      "Training Accuracy = 0.9711773327333584\n",
      "Validation Accuracy = 0.9519274379120392\n",
      "EPOCH 99...\n",
      "Loss at batch 12672: 0.20666247606277466\n",
      "Loss at batch 25472: 0.346859335899353\n",
      "Training Accuracy = 0.9721831087614052\n",
      "Validation Accuracy = 0.9530612247601118\n",
      "EPOCH 100...\n",
      "Loss at batch 12672: 0.3802395761013031\n",
      "Loss at batch 25472: 0.3354130983352661\n",
      "Training Accuracy = 0.9722405816772935\n",
      "Validation Accuracy = 0.9530612247601118\n",
      "EPOCH 101...\n",
      "Loss at batch 12672: 0.3198027014732361\n",
      "Loss at batch 25472: 0.31454703211784363\n",
      "Training Accuracy = 0.9719819535557959\n",
      "Validation Accuracy = 0.9526077095072826\n",
      "EPOCH 102...\n",
      "Loss at batch 12672: 0.22492782771587372\n",
      "Loss at batch 25472: 0.40249213576316833\n",
      "Training Accuracy = 0.9722405816772935\n",
      "Validation Accuracy = 0.9489795921070505\n",
      "EPOCH 103...\n",
      "Loss at batch 12672: 0.23434202373027802\n",
      "Loss at batch 25472: 0.31828808784484863\n",
      "Training Accuracy = 0.9733325670791729\n",
      "Validation Accuracy = 0.9510204084335812\n",
      "EPOCH 104...\n",
      "Loss at batch 12672: 0.36092209815979004\n",
      "Loss at batch 25472: 0.2594314515590668\n",
      "Training Accuracy = 0.9740222420698336\n",
      "Validation Accuracy = 0.9514739231728102\n",
      "EPOCH 105...\n",
      "Loss at batch 12672: 0.3082405626773834\n",
      "Loss at batch 25472: 0.35026001930236816\n",
      "Training Accuracy = 0.9733325670791729\n",
      "Validation Accuracy = 0.9523809526512682\n",
      "EPOCH 106...\n",
      "Loss at batch 12672: 0.3252112865447998\n",
      "Loss at batch 25472: 0.370972216129303\n",
      "Training Accuracy = 0.9747406535184384\n",
      "Validation Accuracy = 0.9530612247601118\n",
      "EPOCH 107...\n",
      "Loss at batch 12672: 0.267062783241272\n",
      "Loss at batch 25472: 0.390838623046875\n",
      "Training Accuracy = 0.9741371879016104\n",
      "Validation Accuracy = 0.9512471658031957\n",
      "EPOCH 108...\n",
      "Loss at batch 12672: 0.3081054091453552\n",
      "Loss at batch 25472: 0.30204010009765625\n",
      "Training Accuracy = 0.9745682347707733\n",
      "Validation Accuracy = 0.9530612242465116\n",
      "EPOCH 109...\n",
      "Loss at batch 12672: 0.2677386701107025\n",
      "Loss at batch 25472: 0.3218781352043152\n",
      "Training Accuracy = 0.9758326389203178\n",
      "Validation Accuracy = 0.9546485263474134\n",
      "EPOCH 110...\n",
      "Loss at batch 12672: 0.25316619873046875\n",
      "Loss at batch 25472: 0.26516470313072205\n",
      "Training Accuracy = 0.9748555993502153\n",
      "Validation Accuracy = 0.9548752837170279\n",
      "EPOCH 111...\n",
      "Loss at batch 12672: 0.30753636360168457\n",
      "Loss at batch 25472: 0.25970786809921265\n",
      "Training Accuracy = 0.9775855628549136\n",
      "Validation Accuracy = 0.9555555558258714\n",
      "EPOCH 112...\n",
      "Loss at batch 12672: 0.17948274314403534\n",
      "Loss at batch 25472: 0.33274340629577637\n",
      "Training Accuracy = 0.9756314837147084\n",
      "Validation Accuracy = 0.9548752837170279\n",
      "EPOCH 113...\n",
      "Loss at batch 12672: 0.21273067593574524\n",
      "Loss at batch 25472: 0.308616042137146\n",
      "Training Accuracy = 0.975861375378262\n",
      "Validation Accuracy = 0.9564625853043295\n",
      "EPOCH 114...\n",
      "Loss at batch 12672: 0.29272758960723877\n",
      "Loss at batch 25472: 0.4151133894920349\n",
      "Training Accuracy = 0.9756889566305968\n",
      "Validation Accuracy = 0.9562358274211148\n",
      "EPOCH 115...\n",
      "Loss at batch 12672: 0.30909764766693115\n",
      "Loss at batch 25472: 0.27355197072029114\n",
      "Training Accuracy = 0.9773844076493042\n",
      "Validation Accuracy = 0.957596372152402\n",
      "EPOCH 116...\n",
      "Loss at batch 12672: 0.2535443603992462\n",
      "Loss at batch 25472: 0.25022339820861816\n",
      "Training Accuracy = 0.9765223139109784\n",
      "Validation Accuracy = 0.9555555558258714\n",
      "EPOCH 117...\n",
      "Loss at batch 12672: 0.19895415008068085\n",
      "Loss at batch 25472: 0.30837517976760864\n",
      "Training Accuracy = 0.9769820972380856\n",
      "Validation Accuracy = 0.956689342673944\n",
      "EPOCH 118...\n",
      "Loss at batch 12672: 0.23051771521568298\n",
      "Loss at batch 25472: 0.277305543422699\n",
      "Training Accuracy = 0.976292422247425\n",
      "Validation Accuracy = 0.9560090705651004\n",
      "EPOCH 119...\n",
      "Loss at batch 12672: 0.21302522718906403\n",
      "Loss at batch 25472: 0.3806905746459961\n",
      "Training Accuracy = 0.9787924940885697\n",
      "Validation Accuracy = 0.9535147394993408\n",
      "EPOCH 120...\n",
      "Loss at batch 12672: 0.24917331337928772\n",
      "Loss at batch 25472: 0.2692091464996338\n",
      "Training Accuracy = 0.9779304003502439\n",
      "Validation Accuracy = 0.9582766442612456\n",
      "EPOCH 121...\n",
      "Loss at batch 12672: 0.335466206073761\n",
      "Loss at batch 25472: 0.2859567403793335\n",
      "Training Accuracy = 0.9785626024250162\n",
      "Validation Accuracy = 0.9564625853043295\n",
      "EPOCH 122...\n",
      "Loss at batch 12672: 0.3378589153289795\n",
      "Loss at batch 25472: 0.33349984884262085\n",
      "Training Accuracy = 0.9790511222100675\n",
      "Validation Accuracy = 0.957142857413173\n",
      "EPOCH 123...\n",
      "Loss at batch 12672: 0.1835618019104004\n",
      "Loss at batch 25472: 0.19857531785964966\n",
      "Training Accuracy = 0.9785626024250162\n",
      "Validation Accuracy = 0.9585034016308601\n",
      "EPOCH 124...\n",
      "Loss at batch 12672: 0.3402678668498993\n",
      "Loss at batch 25472: 0.30735599994659424\n",
      "Training Accuracy = 0.9789361763782908\n",
      "Validation Accuracy = 0.956689342673944\n",
      "EPOCH 125...\n",
      "Loss at batch 12672: 0.30959320068359375\n",
      "Loss at batch 25472: 0.2824426293373108\n",
      "Training Accuracy = 0.9790798586680117\n",
      "Validation Accuracy = 0.957142857413173\n",
      "EPOCH 126...\n",
      "Loss at batch 12672: 0.18422262370586395\n",
      "Loss at batch 25472: 0.26364627480506897\n",
      "Training Accuracy = 0.9795396419951188\n",
      "Validation Accuracy = 0.9598639458485472\n",
      "EPOCH 127...\n",
      "Loss at batch 12672: 0.18580611050128937\n",
      "Loss at batch 25472: 0.38242653012275696\n",
      "Training Accuracy = 0.9783039743035185\n",
      "Validation Accuracy = 0.9523809526512682\n",
      "EPOCH 128...\n",
      "Loss at batch 12672: 0.214584618806839\n",
      "Loss at batch 25472: 0.2529613971710205\n",
      "Training Accuracy = 0.9792235409577327\n",
      "Validation Accuracy = 0.9591836737397036\n",
      "EPOCH 129...\n",
      "Loss at batch 12672: 0.25159838795661926\n",
      "Loss at batch 25472: 0.22755461931228638\n",
      "Training Accuracy = 0.9824994971633708\n",
      "Validation Accuracy = 0.9594104311093181\n",
      "EPOCH 130...\n",
      "Loss at batch 12672: 0.25395095348358154\n",
      "Loss at batch 25472: 0.20816844701766968\n",
      "Training Accuracy = 0.9830742263222546\n",
      "Validation Accuracy = 0.9596371884789326\n",
      "EPOCH 131...\n",
      "Loss at batch 12672: 0.21750898659229279\n",
      "Loss at batch 25472: 0.23795725405216217\n",
      "Training Accuracy = 0.9819535044624311\n",
      "Validation Accuracy = 0.9609977326966197\n",
      "EPOCH 132...\n",
      "Loss at batch 12672: 0.26134493947029114\n",
      "Loss at batch 25472: 0.2796497344970703\n",
      "Training Accuracy = 0.9831891721540315\n",
      "Validation Accuracy = 0.9628117916535358\n",
      "EPOCH 133...\n",
      "Loss at batch 12672: 0.12041445076465607\n",
      "Loss at batch 25472: 0.2518046200275421\n",
      "Training Accuracy = 0.9836776919390827\n",
      "Validation Accuracy = 0.9609977326966197\n",
      "EPOCH 134...\n",
      "Loss at batch 12672: 0.2277037501335144\n",
      "Loss at batch 25472: 0.348522424697876\n",
      "Training Accuracy = 0.9819822409203752\n",
      "Validation Accuracy = 0.9594104311093181\n",
      "EPOCH 135...\n",
      "Loss at batch 12672: 0.3065001964569092\n",
      "Loss at batch 25472: 0.2960662543773651\n",
      "Training Accuracy = 0.9852294606680692\n",
      "Validation Accuracy = 0.9603174605877761\n",
      "EPOCH 136...\n",
      "Loss at batch 12672: 0.20173215866088867\n",
      "Loss at batch 25472: 0.21806491911411285\n",
      "Training Accuracy = 0.9865226012755579\n",
      "Validation Accuracy = 0.9591836737397036\n",
      "EPOCH 137...\n",
      "Loss at batch 12672: 0.1743493378162384\n",
      "Loss at batch 25472: 0.2511078715324402\n",
      "Training Accuracy = 0.9892238283223121\n",
      "Validation Accuracy = 0.965986394828139\n",
      "EPOCH 138...\n",
      "Loss at batch 12672: 0.23548494279384613\n",
      "Loss at batch 25472: 0.2886826992034912\n",
      "Training Accuracy = 0.9854306158736785\n",
      "Validation Accuracy = 0.959410430595718\n",
      "EPOCH 139...\n",
      "Loss at batch 12672: 0.18161635100841522\n",
      "Loss at batch 25472: 0.22062401473522186\n",
      "Training Accuracy = 0.9822983419577614\n",
      "Validation Accuracy = 0.9587301590004745\n",
      "EPOCH 140...\n",
      "Loss at batch 12672: 0.2600627839565277\n",
      "Loss at batch 25472: 0.24468301236629486\n",
      "Training Accuracy = 0.9878157418830467\n",
      "Validation Accuracy = 0.9596371884789326\n",
      "EPOCH 141...\n",
      "Loss at batch 12672: 0.28984910249710083\n",
      "Loss at batch 25472: 0.27041590213775635\n",
      "Training Accuracy = 0.9865800741914463\n",
      "Validation Accuracy = 0.9623582769143068\n",
      "EPOCH 142...\n",
      "Loss at batch 12672: 0.2802574634552002\n",
      "Loss at batch 25472: 0.25314876437187195\n",
      "Training Accuracy = 0.9875858502194931\n",
      "Validation Accuracy = 0.9609977326966197\n",
      "EPOCH 143...\n",
      "Loss at batch 12672: 0.15208373963832855\n"
     ]
    },
    {
     "name": "stdout",
     "output_type": "stream",
     "text": [
      "Loss at batch 25472: 0.22582826018333435\n",
      "Training Accuracy = 0.985947872116674\n",
      "Validation Accuracy = 0.9623582769143068\n",
      "EPOCH 144...\n",
      "Loss at batch 12672: 0.1942155957221985\n",
      "Loss at batch 25472: 0.2343152016401291\n",
      "Training Accuracy = 0.9889077272849259\n",
      "Validation Accuracy = 0.9623582769143068\n",
      "EPOCH 145...\n",
      "Loss at batch 12672: 0.14339366555213928\n",
      "Loss at batch 25472: 0.19794726371765137\n",
      "Training Accuracy = 0.9899135033129728\n",
      "Validation Accuracy = 0.9678004535147392\n",
      "EPOCH 146...\n",
      "Loss at batch 12672: 0.21301701664924622\n",
      "Loss at batch 25472: 0.2871500849723816\n",
      "Training Accuracy = 0.9898272939391402\n",
      "Validation Accuracy = 0.9696145124716553\n",
      "EPOCH 147...\n",
      "Loss at batch 12672: 0.151743546128273\n",
      "Loss at batch 25472: 0.19583284854888916\n",
      "Training Accuracy = 0.9897985574811959\n",
      "Validation Accuracy = 0.9689342406331276\n",
      "EPOCH 148...\n",
      "Loss at batch 12672: 0.19394713640213013\n",
      "Loss at batch 25472: 0.3010977506637573\n",
      "Training Accuracy = 0.9908618064251311\n",
      "Validation Accuracy = 0.972108843537415\n",
      "EPOCH 149...\n",
      "Loss at batch 12672: 0.2870621085166931\n",
      "Loss at batch 25472: 0.25643301010131836\n",
      "Training Accuracy = 0.9880743700045443\n",
      "Validation Accuracy = 0.9623582769143068\n"
     ]
    }
   ],
   "source": [
    "\n",
    "# Train\n",
    "with tf.Session() as sess:\n",
    "    sess.run(tf.global_variables_initializer())\n",
    "    \n",
    "    \n",
    "    print('Training...')\n",
    "    for epoch in range(n_epoch):\n",
    "        count=0\n",
    "        batch_x=0\n",
    "        batch_y=0\n",
    "        \n",
    "        print(f\"EPOCH {epoch}...\")\n",
    "        \n",
    "        for i in range(0, n_train, batch_size):\n",
    "            batch_x = X_train[i:i+batch_size]\n",
    "            batch_y = y_train[i:i+batch_size]\n",
    "            \n",
    "            _, loss = sess.run([train_operation, loss_function], feed_dict={x:batch_x, y:batch_y, keep_prob:0.3})\n",
    "            \n",
    "            count += 1\n",
    "            if count%100==0:\n",
    "                print(f'Loss at batch {i}: {loss}')\n",
    "        train_accuracy = evaluate(X_train, y_train)\n",
    "        validation_accuracy = evaluate(X_valid, y_valid)\n",
    "        \n",
    "        \n",
    "        print(f\"Training Accuracy = {train_accuracy}\")\n",
    "        print(f\"Validation Accuracy = {validation_accuracy}\")\n",
    "    \n",
    "    tf_saver.save(sess, model_checkpoint)"
   ]
  },
  {
   "cell_type": "code",
   "execution_count": null,
   "metadata": {},
   "outputs": [],
   "source": []
  },
  {
   "cell_type": "code",
   "execution_count": 48,
   "metadata": {},
   "outputs": [
    {
     "name": "stdout",
     "output_type": "stream",
     "text": [
      "INFO:tensorflow:Restoring parameters from model.chkpt\n",
      "0.961995249331\n"
     ]
    }
   ],
   "source": [
    "with tf.Session() as sess:\n",
    "    sess.run(tf.global_variables_initializer())\n",
    "\n",
    "    tf_saver.restore(sess, model_checkpoint)\n",
    "    \n",
    "    X_test, y_test = shuffle(normalized_X_test, y_test)\n",
    "\n",
    "    test_accuracy = evaluate(X_test, y_test)\n",
    "\n",
    "    print(test_accuracy)"
   ]
  },
  {
   "cell_type": "markdown",
   "metadata": {},
   "source": [
    "---\n",
    "\n",
    "## Step 3: Test a Model on New Images\n",
    "\n",
    "To give yourself more insight into how your model is working, download at least five pictures of German traffic signs from the web and use your model to predict the traffic sign type.\n",
    "\n",
    "You may find `signnames.csv` useful as it contains mappings from the class id (integer) to the actual sign name."
   ]
  },
  {
   "cell_type": "markdown",
   "metadata": {},
   "source": [
    "### Load and Output the Images"
   ]
  },
  {
   "cell_type": "code",
   "execution_count": 41,
   "metadata": {},
   "outputs": [],
   "source": [
    "### Load the images and plot them here.\n",
    "### Feel free to use as many code cells as needed."
   ]
  },
  {
   "cell_type": "code",
   "execution_count": 42,
   "metadata": {},
   "outputs": [],
   "source": [
    "import os\n",
    "import matplotlib.pyplot as plt\n",
    "import matplotlib.image as mpimg\n",
    "\n",
    "from PIL import Image"
   ]
  },
  {
   "cell_type": "code",
   "execution_count": 43,
   "metadata": {},
   "outputs": [
    {
     "data": {
      "text/plain": [
       "['4.jpg', '3.jpg', '2.jpg', '.ipynb_checkpoints', '5.jpg', '6.jpg', '1.jpg']"
      ]
     },
     "execution_count": 43,
     "metadata": {},
     "output_type": "execute_result"
    }
   ],
   "source": [
    "german_signs_dir = '../data/traffic_signs'\n",
    "os.listdir(german_signs_dir)\n",
    "\n",
    "# 27, 3, 25, 40, 22, 17"
   ]
  },
  {
   "cell_type": "code",
   "execution_count": 44,
   "metadata": {},
   "outputs": [
    {
     "name": "stdout",
     "output_type": "stream",
     "text": [
      "(32, 32, 3)\n"
     ]
    },
    {
     "data": {
      "image/png": "[encoded data removed]",
      "text/plain": [
       "<matplotlib.figure.Figure at 0x7f15858fa748>"
      ]
     },
     "metadata": {
      "needs_background": "light"
     },
     "output_type": "display_data"
    }
   ],
   "source": [
    "img = mpimg.imread(german_signs_dir + '/6.jpg')\n",
    "plt.imshow(img)\n",
    "\n",
    "print(img.shape)"
   ]
  },
  {
   "cell_type": "code",
   "execution_count": 45,
   "metadata": {},
   "outputs": [],
   "source": [
    "# # manually changed to (32,32)\n",
    "# image = Image.open(german_signs_dir + '/6.jpg')\n",
    "# print(type(image))\n",
    "# (left, upper, right, lower) = (50, 10, 200, 110)\n",
    "# # image = image.crop((left,upper,right,lower))\n",
    "# image = image.resize((32,32))\n",
    "# image = image.convert('RGB')\n",
    "\n",
    "# image.save(german_signs_dir + '/6.jpg')"
   ]
  },
  {
   "cell_type": "code",
   "execution_count": 46,
   "metadata": {},
   "outputs": [],
   "source": [
    "img_set = []\n",
    "for img in os.listdir(german_signs_dir):\n",
    "\n",
    "    if img == '.ipynb_checkpoints':\n",
    "        pass\n",
    "    else:\n",
    "        img_set.append(np.asarray(mpimg.imread(german_signs_dir + f'/{img}')))\n",
    "\n",
    "img_set = np.asarray(img_set)\n",
    "labels_set = [27, 3, 25, 40, 22, 17]\n"
   ]
  },
  {
   "cell_type": "code",
   "execution_count": 47,
   "metadata": {},
   "outputs": [
    {
     "data": {
      "text/plain": [
       "(6, 32, 32, 3)"
      ]
     },
     "execution_count": 47,
     "metadata": {},
     "output_type": "execute_result"
    }
   ],
   "source": [
    "img_set.shape"
   ]
  },
  {
   "cell_type": "code",
   "execution_count": 48,
   "metadata": {},
   "outputs": [],
   "source": [
    "gray_img_set = img_set.mean(axis=3, keepdims=True)\n",
    "normalized_img_set = (gray_img_set - 128.0) / 128"
   ]
  },
  {
   "cell_type": "code",
   "execution_count": 49,
   "metadata": {},
   "outputs": [
    {
     "data": {
      "text/plain": [
       "<matplotlib.image.AxesImage at 0x7f15604d8cf8>"
      ]
     },
     "execution_count": 49,
     "metadata": {},
     "output_type": "execute_result"
    },
    {
     "data": {
      "image/png": "[encoded data removed]",
      "text/plain": [
       "<matplotlib.figure.Figure at 0x7f161286c518>"
      ]
     },
     "metadata": {
      "needs_background": "light"
     },
     "output_type": "display_data"
    }
   ],
   "source": [
    "plt.imshow(normalized_img_set[0].squeeze())"
   ]
  },
  {
   "cell_type": "code",
   "execution_count": 50,
   "metadata": {},
   "outputs": [
    {
     "name": "stdout",
     "output_type": "stream",
     "text": [
      "INFO:tensorflow:Restoring parameters from model.chkpt\n",
      "0.0\n"
     ]
    }
   ],
   "source": [
    "with tf.Session() as sess:\n",
    "    sess.run(tf.global_variables_initializer())\n",
    "\n",
    "    tf_saver.restore(sess, model_checkpoint)\n",
    "    accuracy = evaluate(normalized_img_set, labels_set)\n",
    "    \n",
    "    print(accuracy)"
   ]
  },
  {
   "cell_type": "code",
   "execution_count": null,
   "metadata": {},
   "outputs": [],
   "source": []
  },
  {
   "cell_type": "markdown",
   "metadata": {},
   "source": [
    "### Predict the Sign Type for Each Image"
   ]
  },
  {
   "cell_type": "code",
   "execution_count": 52,
   "metadata": {},
   "outputs": [],
   "source": [
    "### Run the predictions here and use the model to output the prediction for each image.\n",
    "### Make sure to pre-process the images with the same pre-processing pipeline used earlier.\n",
    "### Feel free to use as many code cells as needed."
   ]
  },
  {
   "cell_type": "code",
   "execution_count": 54,
   "metadata": {},
   "outputs": [
    {
     "name": "stdout",
     "output_type": "stream",
     "text": [
      "INFO:tensorflow:Restoring parameters from model.chkpt\n"
     ]
    },
    {
     "ename": "InvalidArgumentError",
     "evalue": "You must feed a value for placeholder tensor 'Placeholder_2' with dtype float\n\t [[Node: Placeholder_2 = Placeholder[dtype=DT_FLOAT, shape=<unknown>, _device=\"/job:localhost/replica:0/task:0/cpu:0\"]()]]\n\nCaused by op 'Placeholder_2', defined at:\n  File \"/opt/conda/lib/python3.6/runpy.py\", line 193, in _run_module_as_main\n    \"__main__\", mod_spec)\n  File \"/opt/conda/lib/python3.6/runpy.py\", line 85, in _run_code\n    exec(code, run_globals)\n  File \"/opt/conda/lib/python3.6/site-packages/ipykernel_launcher.py\", line 16, in <module>\n    app.launch_new_instance()\n  File \"/opt/conda/lib/python3.6/site-packages/traitlets/config/application.py\", line 658, in launch_instance\n    app.start()\n  File \"/opt/conda/lib/python3.6/site-packages/ipykernel/kernelapp.py\", line 497, in start\n    self.io_loop.start()\n  File \"/opt/conda/lib/python3.6/site-packages/tornado/ioloop.py\", line 832, in start\n    self._run_callback(self._callbacks.popleft())\n  File \"/opt/conda/lib/python3.6/site-packages/tornado/ioloop.py\", line 605, in _run_callback\n    ret = callback()\n  File \"/opt/conda/lib/python3.6/site-packages/tornado/stack_context.py\", line 277, in null_wrapper\n    return fn(*args, **kwargs)\n  File \"/opt/conda/lib/python3.6/site-packages/zmq/eventloop/zmqstream.py\", line 536, in <lambda>\n    self.io_loop.add_callback(lambda : self._handle_events(self.socket, 0))\n  File \"/opt/conda/lib/python3.6/site-packages/zmq/eventloop/zmqstream.py\", line 450, in _handle_events\n    self._handle_recv()\n  File \"/opt/conda/lib/python3.6/site-packages/zmq/eventloop/zmqstream.py\", line 480, in _handle_recv\n    self._run_callback(callback, msg)\n  File \"/opt/conda/lib/python3.6/site-packages/zmq/eventloop/zmqstream.py\", line 432, in _run_callback\n    callback(*args, **kwargs)\n  File \"/opt/conda/lib/python3.6/site-packages/tornado/stack_context.py\", line 277, in null_wrapper\n    return fn(*args, **kwargs)\n  File \"/opt/conda/lib/python3.6/site-packages/ipykernel/kernelbase.py\", line 283, in dispatcher\n    return self.dispatch_shell(stream, msg)\n  File \"/opt/conda/lib/python3.6/site-packages/ipykernel/kernelbase.py\", line 233, in dispatch_shell\n    handler(stream, idents, msg)\n  File \"/opt/conda/lib/python3.6/site-packages/ipykernel/kernelbase.py\", line 399, in execute_request\n    user_expressions, allow_stdin)\n  File \"/opt/conda/lib/python3.6/site-packages/ipykernel/ipkernel.py\", line 208, in do_execute\n    res = shell.run_cell(code, store_history=store_history, silent=silent)\n  File \"/opt/conda/lib/python3.6/site-packages/ipykernel/zmqshell.py\", line 537, in run_cell\n    return super(ZMQInteractiveShell, self).run_cell(*args, **kwargs)\n  File \"/opt/conda/lib/python3.6/site-packages/IPython/core/interactiveshell.py\", line 2662, in run_cell\n    raw_cell, store_history, silent, shell_futures)\n  File \"/opt/conda/lib/python3.6/site-packages/IPython/core/interactiveshell.py\", line 2785, in _run_cell\n    interactivity=interactivity, compiler=compiler, result=result)\n  File \"/opt/conda/lib/python3.6/site-packages/IPython/core/interactiveshell.py\", line 2901, in run_ast_nodes\n    if self.run_code(code, result):\n  File \"/opt/conda/lib/python3.6/site-packages/IPython/core/interactiveshell.py\", line 2961, in run_code\n    exec(code_obj, self.user_global_ns, self.user_ns)\n  File \"<ipython-input-35-f26442b2c294>\", line 9, in <module>\n    keep_prob = tf.placeholder(tf.float32)\n  File \"/opt/conda/lib/python3.6/site-packages/tensorflow/python/ops/array_ops.py\", line 1548, in placeholder\n    return gen_array_ops._placeholder(dtype=dtype, shape=shape, name=name)\n  File \"/opt/conda/lib/python3.6/site-packages/tensorflow/python/ops/gen_array_ops.py\", line 2094, in _placeholder\n    name=name)\n  File \"/opt/conda/lib/python3.6/site-packages/tensorflow/python/framework/op_def_library.py\", line 767, in apply_op\n    op_def=op_def)\n  File \"/opt/conda/lib/python3.6/site-packages/tensorflow/python/framework/ops.py\", line 2630, in create_op\n    original_op=self._default_original_op, op_def=op_def)\n  File \"/opt/conda/lib/python3.6/site-packages/tensorflow/python/framework/ops.py\", line 1204, in __init__\n    self._traceback = self._graph._extract_stack()  # pylint: disable=protected-access\n\nInvalidArgumentError (see above for traceback): You must feed a value for placeholder tensor 'Placeholder_2' with dtype float\n\t [[Node: Placeholder_2 = Placeholder[dtype=DT_FLOAT, shape=<unknown>, _device=\"/job:localhost/replica:0/task:0/cpu:0\"]()]]\n",
     "output_type": "error",
     "traceback": [
      "\u001b[0;31m---------------------------------------------------------------------------\u001b[0m",
      "\u001b[0;31mInvalidArgumentError\u001b[0m                      Traceback (most recent call last)",
      "\u001b[0;32m/opt/conda/lib/python3.6/site-packages/tensorflow/python/client/session.py\u001b[0m in \u001b[0;36m_do_call\u001b[0;34m(self, fn, *args)\u001b[0m\n\u001b[1;32m   1326\u001b[0m     \u001b[0;32mtry\u001b[0m\u001b[0;34m:\u001b[0m\u001b[0;34m\u001b[0m\u001b[0m\n\u001b[0;32m-> 1327\u001b[0;31m       \u001b[0;32mreturn\u001b[0m \u001b[0mfn\u001b[0m\u001b[0;34m(\u001b[0m\u001b[0;34m*\u001b[0m\u001b[0margs\u001b[0m\u001b[0;34m)\u001b[0m\u001b[0;34m\u001b[0m\u001b[0m\n\u001b[0m\u001b[1;32m   1328\u001b[0m     \u001b[0;32mexcept\u001b[0m \u001b[0merrors\u001b[0m\u001b[0;34m.\u001b[0m\u001b[0mOpError\u001b[0m \u001b[0;32mas\u001b[0m \u001b[0me\u001b[0m\u001b[0;34m:\u001b[0m\u001b[0;34m\u001b[0m\u001b[0m\n",
      "\u001b[0;32m/opt/conda/lib/python3.6/site-packages/tensorflow/python/client/session.py\u001b[0m in \u001b[0;36m_run_fn\u001b[0;34m(session, feed_dict, fetch_list, target_list, options, run_metadata)\u001b[0m\n\u001b[1;32m   1305\u001b[0m                                    \u001b[0mfeed_dict\u001b[0m\u001b[0;34m,\u001b[0m \u001b[0mfetch_list\u001b[0m\u001b[0;34m,\u001b[0m \u001b[0mtarget_list\u001b[0m\u001b[0;34m,\u001b[0m\u001b[0;34m\u001b[0m\u001b[0m\n\u001b[0;32m-> 1306\u001b[0;31m                                    status, run_metadata)\n\u001b[0m\u001b[1;32m   1307\u001b[0m \u001b[0;34m\u001b[0m\u001b[0m\n",
      "\u001b[0;32m/opt/conda/lib/python3.6/contextlib.py\u001b[0m in \u001b[0;36m__exit__\u001b[0;34m(self, type, value, traceback)\u001b[0m\n\u001b[1;32m     87\u001b[0m             \u001b[0;32mtry\u001b[0m\u001b[0;34m:\u001b[0m\u001b[0;34m\u001b[0m\u001b[0m\n\u001b[0;32m---> 88\u001b[0;31m                 \u001b[0mnext\u001b[0m\u001b[0;34m(\u001b[0m\u001b[0mself\u001b[0m\u001b[0;34m.\u001b[0m\u001b[0mgen\u001b[0m\u001b[0;34m)\u001b[0m\u001b[0;34m\u001b[0m\u001b[0m\n\u001b[0m\u001b[1;32m     89\u001b[0m             \u001b[0;32mexcept\u001b[0m \u001b[0mStopIteration\u001b[0m\u001b[0;34m:\u001b[0m\u001b[0;34m\u001b[0m\u001b[0m\n",
      "\u001b[0;32m/opt/conda/lib/python3.6/site-packages/tensorflow/python/framework/errors_impl.py\u001b[0m in \u001b[0;36mraise_exception_on_not_ok_status\u001b[0;34m()\u001b[0m\n\u001b[1;32m    465\u001b[0m           \u001b[0mcompat\u001b[0m\u001b[0;34m.\u001b[0m\u001b[0mas_text\u001b[0m\u001b[0;34m(\u001b[0m\u001b[0mpywrap_tensorflow\u001b[0m\u001b[0;34m.\u001b[0m\u001b[0mTF_Message\u001b[0m\u001b[0;34m(\u001b[0m\u001b[0mstatus\u001b[0m\u001b[0;34m)\u001b[0m\u001b[0;34m)\u001b[0m\u001b[0;34m,\u001b[0m\u001b[0;34m\u001b[0m\u001b[0m\n\u001b[0;32m--> 466\u001b[0;31m           pywrap_tensorflow.TF_GetCode(status))\n\u001b[0m\u001b[1;32m    467\u001b[0m   \u001b[0;32mfinally\u001b[0m\u001b[0;34m:\u001b[0m\u001b[0;34m\u001b[0m\u001b[0m\n",
      "\u001b[0;31mInvalidArgumentError\u001b[0m: You must feed a value for placeholder tensor 'Placeholder_2' with dtype float\n\t [[Node: Placeholder_2 = Placeholder[dtype=DT_FLOAT, shape=<unknown>, _device=\"/job:localhost/replica:0/task:0/cpu:0\"]()]]",
      "\nDuring handling of the above exception, another exception occurred:\n",
      "\u001b[0;31mInvalidArgumentError\u001b[0m                      Traceback (most recent call last)",
      "\u001b[0;32m<ipython-input-54-e7f8b5657e94>\u001b[0m in \u001b[0;36m<module>\u001b[0;34m()\u001b[0m\n\u001b[1;32m      2\u001b[0m \u001b[0;32mwith\u001b[0m \u001b[0mtf\u001b[0m\u001b[0;34m.\u001b[0m\u001b[0mSession\u001b[0m\u001b[0;34m(\u001b[0m\u001b[0;34m)\u001b[0m \u001b[0;32mas\u001b[0m \u001b[0msess\u001b[0m\u001b[0;34m:\u001b[0m\u001b[0;34m\u001b[0m\u001b[0m\n\u001b[1;32m      3\u001b[0m     \u001b[0mtf_saver\u001b[0m\u001b[0;34m.\u001b[0m\u001b[0mrestore\u001b[0m\u001b[0;34m(\u001b[0m\u001b[0msess\u001b[0m\u001b[0;34m,\u001b[0m \u001b[0mmodel_checkpoint\u001b[0m\u001b[0;34m)\u001b[0m\u001b[0;34m\u001b[0m\u001b[0m\n\u001b[0;32m----> 4\u001b[0;31m     \u001b[0mprediction\u001b[0m \u001b[0;34m=\u001b[0m \u001b[0msess\u001b[0m\u001b[0;34m.\u001b[0m\u001b[0mrun\u001b[0m\u001b[0;34m(\u001b[0m\u001b[0my_pred\u001b[0m\u001b[0;34m,\u001b[0m \u001b[0mfeed_dict\u001b[0m\u001b[0;34m=\u001b[0m\u001b[0;34m{\u001b[0m\u001b[0mx\u001b[0m\u001b[0;34m:\u001b[0m \u001b[0mnormalized_img_set\u001b[0m\u001b[0;34m,\u001b[0m \u001b[0my\u001b[0m\u001b[0;34m:\u001b[0m \u001b[0mnp\u001b[0m\u001b[0;34m.\u001b[0m\u001b[0masarray\u001b[0m\u001b[0;34m(\u001b[0m\u001b[0mlabels_set\u001b[0m\u001b[0;34m)\u001b[0m\u001b[0;34m}\u001b[0m\u001b[0;34m)\u001b[0m\u001b[0;34m\u001b[0m\u001b[0m\n\u001b[0m\u001b[1;32m      5\u001b[0m \u001b[0;34m\u001b[0m\u001b[0m\n\u001b[1;32m      6\u001b[0m     \u001b[0mmodel_prediction\u001b[0m \u001b[0;34m=\u001b[0m \u001b[0mprediction\u001b[0m\u001b[0;34m\u001b[0m\u001b[0m\n",
      "\u001b[0;32m/opt/conda/lib/python3.6/site-packages/tensorflow/python/client/session.py\u001b[0m in \u001b[0;36mrun\u001b[0;34m(self, fetches, feed_dict, options, run_metadata)\u001b[0m\n\u001b[1;32m    893\u001b[0m     \u001b[0;32mtry\u001b[0m\u001b[0;34m:\u001b[0m\u001b[0;34m\u001b[0m\u001b[0m\n\u001b[1;32m    894\u001b[0m       result = self._run(None, fetches, feed_dict, options_ptr,\n\u001b[0;32m--> 895\u001b[0;31m                          run_metadata_ptr)\n\u001b[0m\u001b[1;32m    896\u001b[0m       \u001b[0;32mif\u001b[0m \u001b[0mrun_metadata\u001b[0m\u001b[0;34m:\u001b[0m\u001b[0;34m\u001b[0m\u001b[0m\n\u001b[1;32m    897\u001b[0m         \u001b[0mproto_data\u001b[0m \u001b[0;34m=\u001b[0m \u001b[0mtf_session\u001b[0m\u001b[0;34m.\u001b[0m\u001b[0mTF_GetBuffer\u001b[0m\u001b[0;34m(\u001b[0m\u001b[0mrun_metadata_ptr\u001b[0m\u001b[0;34m)\u001b[0m\u001b[0;34m\u001b[0m\u001b[0m\n",
      "\u001b[0;32m/opt/conda/lib/python3.6/site-packages/tensorflow/python/client/session.py\u001b[0m in \u001b[0;36m_run\u001b[0;34m(self, handle, fetches, feed_dict, options, run_metadata)\u001b[0m\n\u001b[1;32m   1122\u001b[0m     \u001b[0;32mif\u001b[0m \u001b[0mfinal_fetches\u001b[0m \u001b[0;32mor\u001b[0m \u001b[0mfinal_targets\u001b[0m \u001b[0;32mor\u001b[0m \u001b[0;34m(\u001b[0m\u001b[0mhandle\u001b[0m \u001b[0;32mand\u001b[0m \u001b[0mfeed_dict_tensor\u001b[0m\u001b[0;34m)\u001b[0m\u001b[0;34m:\u001b[0m\u001b[0;34m\u001b[0m\u001b[0m\n\u001b[1;32m   1123\u001b[0m       results = self._do_run(handle, final_targets, final_fetches,\n\u001b[0;32m-> 1124\u001b[0;31m                              feed_dict_tensor, options, run_metadata)\n\u001b[0m\u001b[1;32m   1125\u001b[0m     \u001b[0;32melse\u001b[0m\u001b[0;34m:\u001b[0m\u001b[0;34m\u001b[0m\u001b[0m\n\u001b[1;32m   1126\u001b[0m       \u001b[0mresults\u001b[0m \u001b[0;34m=\u001b[0m \u001b[0;34m[\u001b[0m\u001b[0;34m]\u001b[0m\u001b[0;34m\u001b[0m\u001b[0m\n",
      "\u001b[0;32m/opt/conda/lib/python3.6/site-packages/tensorflow/python/client/session.py\u001b[0m in \u001b[0;36m_do_run\u001b[0;34m(self, handle, target_list, fetch_list, feed_dict, options, run_metadata)\u001b[0m\n\u001b[1;32m   1319\u001b[0m     \u001b[0;32mif\u001b[0m \u001b[0mhandle\u001b[0m \u001b[0;32mis\u001b[0m \u001b[0;32mNone\u001b[0m\u001b[0;34m:\u001b[0m\u001b[0;34m\u001b[0m\u001b[0m\n\u001b[1;32m   1320\u001b[0m       return self._do_call(_run_fn, self._session, feeds, fetches, targets,\n\u001b[0;32m-> 1321\u001b[0;31m                            options, run_metadata)\n\u001b[0m\u001b[1;32m   1322\u001b[0m     \u001b[0;32melse\u001b[0m\u001b[0;34m:\u001b[0m\u001b[0;34m\u001b[0m\u001b[0m\n\u001b[1;32m   1323\u001b[0m       \u001b[0;32mreturn\u001b[0m \u001b[0mself\u001b[0m\u001b[0;34m.\u001b[0m\u001b[0m_do_call\u001b[0m\u001b[0;34m(\u001b[0m\u001b[0m_prun_fn\u001b[0m\u001b[0;34m,\u001b[0m \u001b[0mself\u001b[0m\u001b[0;34m.\u001b[0m\u001b[0m_session\u001b[0m\u001b[0;34m,\u001b[0m \u001b[0mhandle\u001b[0m\u001b[0;34m,\u001b[0m \u001b[0mfeeds\u001b[0m\u001b[0;34m,\u001b[0m \u001b[0mfetches\u001b[0m\u001b[0;34m)\u001b[0m\u001b[0;34m\u001b[0m\u001b[0m\n",
      "\u001b[0;32m/opt/conda/lib/python3.6/site-packages/tensorflow/python/client/session.py\u001b[0m in \u001b[0;36m_do_call\u001b[0;34m(self, fn, *args)\u001b[0m\n\u001b[1;32m   1338\u001b[0m         \u001b[0;32mexcept\u001b[0m \u001b[0mKeyError\u001b[0m\u001b[0;34m:\u001b[0m\u001b[0;34m\u001b[0m\u001b[0m\n\u001b[1;32m   1339\u001b[0m           \u001b[0;32mpass\u001b[0m\u001b[0;34m\u001b[0m\u001b[0m\n\u001b[0;32m-> 1340\u001b[0;31m       \u001b[0;32mraise\u001b[0m \u001b[0mtype\u001b[0m\u001b[0;34m(\u001b[0m\u001b[0me\u001b[0m\u001b[0;34m)\u001b[0m\u001b[0;34m(\u001b[0m\u001b[0mnode_def\u001b[0m\u001b[0;34m,\u001b[0m \u001b[0mop\u001b[0m\u001b[0;34m,\u001b[0m \u001b[0mmessage\u001b[0m\u001b[0;34m)\u001b[0m\u001b[0;34m\u001b[0m\u001b[0m\n\u001b[0m\u001b[1;32m   1341\u001b[0m \u001b[0;34m\u001b[0m\u001b[0m\n\u001b[1;32m   1342\u001b[0m   \u001b[0;32mdef\u001b[0m \u001b[0m_extend_graph\u001b[0m\u001b[0;34m(\u001b[0m\u001b[0mself\u001b[0m\u001b[0;34m)\u001b[0m\u001b[0;34m:\u001b[0m\u001b[0;34m\u001b[0m\u001b[0m\n",
      "\u001b[0;31mInvalidArgumentError\u001b[0m: You must feed a value for placeholder tensor 'Placeholder_2' with dtype float\n\t [[Node: Placeholder_2 = Placeholder[dtype=DT_FLOAT, shape=<unknown>, _device=\"/job:localhost/replica:0/task:0/cpu:0\"]()]]\n\nCaused by op 'Placeholder_2', defined at:\n  File \"/opt/conda/lib/python3.6/runpy.py\", line 193, in _run_module_as_main\n    \"__main__\", mod_spec)\n  File \"/opt/conda/lib/python3.6/runpy.py\", line 85, in _run_code\n    exec(code, run_globals)\n  File \"/opt/conda/lib/python3.6/site-packages/ipykernel_launcher.py\", line 16, in <module>\n    app.launch_new_instance()\n  File \"/opt/conda/lib/python3.6/site-packages/traitlets/config/application.py\", line 658, in launch_instance\n    app.start()\n  File \"/opt/conda/lib/python3.6/site-packages/ipykernel/kernelapp.py\", line 497, in start\n    self.io_loop.start()\n  File \"/opt/conda/lib/python3.6/site-packages/tornado/ioloop.py\", line 832, in start\n    self._run_callback(self._callbacks.popleft())\n  File \"/opt/conda/lib/python3.6/site-packages/tornado/ioloop.py\", line 605, in _run_callback\n    ret = callback()\n  File \"/opt/conda/lib/python3.6/site-packages/tornado/stack_context.py\", line 277, in null_wrapper\n    return fn(*args, **kwargs)\n  File \"/opt/conda/lib/python3.6/site-packages/zmq/eventloop/zmqstream.py\", line 536, in <lambda>\n    self.io_loop.add_callback(lambda : self._handle_events(self.socket, 0))\n  File \"/opt/conda/lib/python3.6/site-packages/zmq/eventloop/zmqstream.py\", line 450, in _handle_events\n    self._handle_recv()\n  File \"/opt/conda/lib/python3.6/site-packages/zmq/eventloop/zmqstream.py\", line 480, in _handle_recv\n    self._run_callback(callback, msg)\n  File \"/opt/conda/lib/python3.6/site-packages/zmq/eventloop/zmqstream.py\", line 432, in _run_callback\n    callback(*args, **kwargs)\n  File \"/opt/conda/lib/python3.6/site-packages/tornado/stack_context.py\", line 277, in null_wrapper\n    return fn(*args, **kwargs)\n  File \"/opt/conda/lib/python3.6/site-packages/ipykernel/kernelbase.py\", line 283, in dispatcher\n    return self.dispatch_shell(stream, msg)\n  File \"/opt/conda/lib/python3.6/site-packages/ipykernel/kernelbase.py\", line 233, in dispatch_shell\n    handler(stream, idents, msg)\n  File \"/opt/conda/lib/python3.6/site-packages/ipykernel/kernelbase.py\", line 399, in execute_request\n    user_expressions, allow_stdin)\n  File \"/opt/conda/lib/python3.6/site-packages/ipykernel/ipkernel.py\", line 208, in do_execute\n    res = shell.run_cell(code, store_history=store_history, silent=silent)\n  File \"/opt/conda/lib/python3.6/site-packages/ipykernel/zmqshell.py\", line 537, in run_cell\n    return super(ZMQInteractiveShell, self).run_cell(*args, **kwargs)\n  File \"/opt/conda/lib/python3.6/site-packages/IPython/core/interactiveshell.py\", line 2662, in run_cell\n    raw_cell, store_history, silent, shell_futures)\n  File \"/opt/conda/lib/python3.6/site-packages/IPython/core/interactiveshell.py\", line 2785, in _run_cell\n    interactivity=interactivity, compiler=compiler, result=result)\n  File \"/opt/conda/lib/python3.6/site-packages/IPython/core/interactiveshell.py\", line 2901, in run_ast_nodes\n    if self.run_code(code, result):\n  File \"/opt/conda/lib/python3.6/site-packages/IPython/core/interactiveshell.py\", line 2961, in run_code\n    exec(code_obj, self.user_global_ns, self.user_ns)\n  File \"<ipython-input-35-f26442b2c294>\", line 9, in <module>\n    keep_prob = tf.placeholder(tf.float32)\n  File \"/opt/conda/lib/python3.6/site-packages/tensorflow/python/ops/array_ops.py\", line 1548, in placeholder\n    return gen_array_ops._placeholder(dtype=dtype, shape=shape, name=name)\n  File \"/opt/conda/lib/python3.6/site-packages/tensorflow/python/ops/gen_array_ops.py\", line 2094, in _placeholder\n    name=name)\n  File \"/opt/conda/lib/python3.6/site-packages/tensorflow/python/framework/op_def_library.py\", line 767, in apply_op\n    op_def=op_def)\n  File \"/opt/conda/lib/python3.6/site-packages/tensorflow/python/framework/ops.py\", line 2630, in create_op\n    original_op=self._default_original_op, op_def=op_def)\n  File \"/opt/conda/lib/python3.6/site-packages/tensorflow/python/framework/ops.py\", line 1204, in __init__\n    self._traceback = self._graph._extract_stack()  # pylint: disable=protected-access\n\nInvalidArgumentError (see above for traceback): You must feed a value for placeholder tensor 'Placeholder_2' with dtype float\n\t [[Node: Placeholder_2 = Placeholder[dtype=DT_FLOAT, shape=<unknown>, _device=\"/job:localhost/replica:0/task:0/cpu:0\"]()]]\n"
     ]
    }
   ],
   "source": [
    "model_prediction = None\n",
    "with tf.Session() as sess:\n",
    "    tf_saver.restore(sess, model_checkpoint)\n",
    "    prediction = sess.run(y_pred, feed_dict={x: normalized_img_set, y: np.asarray(labels_set)})\n",
    "    \n",
    "    model_prediction = prediction\n",
    "    print(model_prediction)"
   ]
  },
  {
   "cell_type": "code",
   "execution_count": null,
   "metadata": {},
   "outputs": [],
   "source": []
  },
  {
   "cell_type": "markdown",
   "metadata": {},
   "source": [
    "### Analyze Performance"
   ]
  },
  {
   "cell_type": "code",
   "execution_count": null,
   "metadata": {},
   "outputs": [],
   "source": [
    "### Calculate the accuracy for these 5 new images. \n",
    "### For example, if the model predicted 1 out of 5 signs correctly, it's 20% accurate on these new images."
   ]
  },
  {
   "cell_type": "markdown",
   "metadata": {},
   "source": [
    "### Output Top 5 Softmax Probabilities For Each Image Found on the Web"
   ]
  },
  {
   "cell_type": "markdown",
   "metadata": {},
   "source": [
    "For each of the new images, print out the model's softmax probabilities to show the **certainty** of the model's predictions (limit the output to the top 5 probabilities for each image). [`tf.nn.top_k`](https://www.tensorflow.org/versions/r0.12/api_docs/python/nn.html#top_k) could prove helpful here. \n",
    "\n",
    "The example below demonstrates how tf.nn.top_k can be used to find the top k predictions for each image.\n",
    "\n",
    "`tf.nn.top_k` will return the values and indices (class ids) of the top k predictions. So if k=3, for each sign, it'll return the 3 largest probabilities (out of a possible 43) and the correspoding class ids.\n",
    "\n",
    "Take this numpy array as an example. The values in the array represent predictions. The array contains softmax probabilities for five candidate images with six possible classes. `tf.nn.top_k` is used to choose the three classes with the highest probability:\n",
    "\n",
    "```\n",
    "# (5, 6) array\n",
    "a = np.array([[ 0.24879643,  0.07032244,  0.12641572,  0.34763842,  0.07893497,\n",
    "         0.12789202],\n",
    "       [ 0.28086119,  0.27569815,  0.08594638,  0.0178669 ,  0.18063401,\n",
    "         0.15899337],\n",
    "       [ 0.26076848,  0.23664738,  0.08020603,  0.07001922,  0.1134371 ,\n",
    "         0.23892179],\n",
    "       [ 0.11943333,  0.29198961,  0.02605103,  0.26234032,  0.1351348 ,\n",
    "         0.16505091],\n",
    "       [ 0.09561176,  0.34396535,  0.0643941 ,  0.16240774,  0.24206137,\n",
    "         0.09155967]])\n",
    "```\n",
    "\n",
    "Running it through `sess.run(tf.nn.top_k(tf.constant(a), k=3))` produces:\n",
    "\n",
    "```\n",
    "TopKV2(values=array([[ 0.34763842,  0.24879643,  0.12789202],\n",
    "       [ 0.28086119,  0.27569815,  0.18063401],\n",
    "       [ 0.26076848,  0.23892179,  0.23664738],\n",
    "       [ 0.29198961,  0.26234032,  0.16505091],\n",
    "       [ 0.34396535,  0.24206137,  0.16240774]]), indices=array([[3, 0, 5],\n",
    "       [0, 1, 4],\n",
    "       [0, 5, 1],\n",
    "       [1, 3, 5],\n",
    "       [1, 4, 3]], dtype=int32))\n",
    "```\n",
    "\n",
    "Looking just at the first row we get `[ 0.34763842,  0.24879643,  0.12789202]`, you can confirm these are the 3 largest probabilities in `a`. You'll also notice `[3, 0, 5]` are the corresponding indices."
   ]
  },
  {
   "cell_type": "code",
   "execution_count": null,
   "metadata": {},
   "outputs": [],
   "source": [
    "### Print out the top five softmax probabilities for the predictions on the German traffic sign images found on the web. \n",
    "### Feel free to use as many code cells as needed."
   ]
  },
  {
   "cell_type": "code",
   "execution_count": 50,
   "metadata": {},
   "outputs": [
    {
     "name": "stdout",
     "output_type": "stream",
     "text": [
      "INFO:tensorflow:Restoring parameters from model.chkpt\n"
     ]
    },
    {
     "ename": "NameError",
     "evalue": "name 'model_prediction' is not defined",
     "output_type": "error",
     "traceback": [
      "\u001b[0;31m---------------------------------------------------------------------------\u001b[0m",
      "\u001b[0;31mNameError\u001b[0m                                 Traceback (most recent call last)",
      "\u001b[0;32m<ipython-input-50-157ff780da81>\u001b[0m in \u001b[0;36m<module>\u001b[0;34m()\u001b[0m\n\u001b[1;32m      2\u001b[0m     \u001b[0mtf_saver\u001b[0m\u001b[0;34m.\u001b[0m\u001b[0mrestore\u001b[0m\u001b[0;34m(\u001b[0m\u001b[0msess\u001b[0m\u001b[0;34m,\u001b[0m \u001b[0mmodel_checkpoint\u001b[0m\u001b[0;34m)\u001b[0m\u001b[0;34m\u001b[0m\u001b[0m\n\u001b[1;32m      3\u001b[0m \u001b[0;34m\u001b[0m\u001b[0m\n\u001b[0;32m----> 4\u001b[0;31m     \u001b[0msess\u001b[0m\u001b[0;34m.\u001b[0m\u001b[0mrun\u001b[0m\u001b[0;34m(\u001b[0m\u001b[0mtf\u001b[0m\u001b[0;34m.\u001b[0m\u001b[0mnn\u001b[0m\u001b[0;34m.\u001b[0m\u001b[0mtop_k\u001b[0m\u001b[0;34m(\u001b[0m\u001b[0mmodel_prediction\u001b[0m \u001b[0;34m,\u001b[0m \u001b[0mk\u001b[0m\u001b[0;34m=\u001b[0m\u001b[0;36m5\u001b[0m\u001b[0;34m)\u001b[0m\u001b[0;34m)\u001b[0m\u001b[0;34m\u001b[0m\u001b[0m\n\u001b[0m",
      "\u001b[0;31mNameError\u001b[0m: name 'model_prediction' is not defined"
     ]
    }
   ],
   "source": [
    "with tf.Session() as sess:\n",
    "    tf_saver.restore(sess, model_checkpoint)\n",
    "    \n",
    "    sess.run(tf.nn.top_k(model_prediction , k=5))"
   ]
  },
  {
   "cell_type": "markdown",
   "metadata": {},
   "source": [
    "### Project Writeup\n",
    "\n",
    "Once you have completed the code implementation, document your results in a project writeup using this [template](https://github.com/udacity/CarND-Traffic-Sign-Classifier-Project/blob/master/writeup_template.md) as a guide. The writeup can be in a markdown or pdf file. "
   ]
  },
  {
   "cell_type": "markdown",
   "metadata": {},
   "source": [
    "> **Note**: Once you have completed all of the code implementations and successfully answered each question above, you may finalize your work by exporting the iPython Notebook as an HTML document. You can do this by using the menu above and navigating to  \\n\",\n",
    "    \"**File -> Download as -> HTML (.html)**. Include the finished document along with this notebook as your submission."
   ]
  },
  {
   "cell_type": "markdown",
   "metadata": {},
   "source": [
    "---\n",
    "\n",
    "## Step 4 (Optional): Visualize the Neural Network's State with Test Images\n",
    "\n",
    " This Section is not required to complete but acts as an additional excersise for understaning the output of a neural network's weights. While neural networks can be a great learning device they are often referred to as a black box. We can understand what the weights of a neural network look like better by plotting their feature maps. After successfully training your neural network you can see what it's feature maps look like by plotting the output of the network's weight layers in response to a test stimuli image. From these plotted feature maps, it's possible to see what characteristics of an image the network finds interesting. For a sign, maybe the inner network feature maps react with high activation to the sign's boundary outline or to the contrast in the sign's painted symbol.\n",
    "\n",
    " Provided for you below is the function code that allows you to get the visualization output of any tensorflow weight layer you want. The inputs to the function should be a stimuli image, one used during training or a new one you provided, and then the tensorflow variable name that represents the layer's state during the training process, for instance if you wanted to see what the [LeNet lab's](https://classroom.udacity.com/nanodegrees/nd013/parts/fbf77062-5703-404e-b60c-95b78b2f3f9e/modules/6df7ae49-c61c-4bb2-a23e-6527e69209ec/lessons/601ae704-1035-4287-8b11-e2c2716217ad/concepts/d4aca031-508f-4e0b-b493-e7b706120f81) feature maps looked like for it's second convolutional layer you could enter conv2 as the tf_activation variable.\n",
    "\n",
    "For an example of what feature map outputs look like, check out NVIDIA's results in their paper [End-to-End Deep Learning for Self-Driving Cars](https://devblogs.nvidia.com/parallelforall/deep-learning-self-driving-cars/) in the section Visualization of internal CNN State. NVIDIA was able to show that their network's inner weights had high activations to road boundary lines by comparing feature maps from an image with a clear path to one without. Try experimenting with a similar test to show that your trained network's weights are looking for interesting features, whether it's looking at differences in feature maps from images with or without a sign, or even what feature maps look like in a trained network vs a completely untrained one on the same sign image.\n",
    "\n",
    "<figure>\n",
    " <img src=\"visualize_cnn.png\" width=\"380\" alt=\"Combined Image\" />\n",
    " <figcaption>\n",
    " <p></p> \n",
    " <p style=\"text-align: center;\"> Your output should look something like this (above)</p> \n",
    " </figcaption>\n",
    "</figure>\n",
    " <p></p> \n"
   ]
  },
  {
   "cell_type": "code",
   "execution_count": null,
   "metadata": {},
   "outputs": [],
   "source": [
    "### Visualize your network's feature maps here.\n",
    "### Feel free to use as many code cells as needed.\n",
    "\n",
    "# image_input: the test image being fed into the network to produce the feature maps\n",
    "# tf_activation: should be a tf variable name used during your training procedure that represents the calculated state of a specific weight layer\n",
    "# activation_min/max: can be used to view the activation contrast in more detail, by default matplot sets min and max to the actual min and max values of the output\n",
    "# plt_num: used to plot out multiple different weight feature map sets on the same block, just extend the plt number for each new feature map entry\n",
    "\n",
    "def outputFeatureMap(image_input, tf_activation, activation_min=-1, activation_max=-1 ,plt_num=1):\n",
    "    # Here make sure to preprocess your image_input in a way your network expects\n",
    "    # with size, normalization, ect if needed\n",
    "    # image_input =\n",
    "    # Note: x should be the same name as your network's tensorflow data placeholder variable\n",
    "    # If you get an error tf_activation is not defined it may be having trouble accessing the variable from inside a function\n",
    "    activation = tf_activation.eval(session=sess,feed_dict={x : image_input})\n",
    "    featuremaps = activation.shape[3]\n",
    "    plt.figure(plt_num, figsize=(15,15))\n",
    "    for featuremap in range(featuremaps):\n",
    "        plt.subplot(6,8, featuremap+1) # sets the number of feature maps to show on each row and column\n",
    "        plt.title('FeatureMap ' + str(featuremap)) # displays the feature map number\n",
    "        if activation_min != -1 & activation_max != -1:\n",
    "            plt.imshow(activation[0,:,:, featuremap], interpolation=\"nearest\", vmin =activation_min, vmax=activation_max, cmap=\"gray\")\n",
    "        elif activation_max != -1:\n",
    "            plt.imshow(activation[0,:,:, featuremap], interpolation=\"nearest\", vmax=activation_max, cmap=\"gray\")\n",
    "        elif activation_min !=-1:\n",
    "            plt.imshow(activation[0,:,:, featuremap], interpolation=\"nearest\", vmin=activation_min, cmap=\"gray\")\n",
    "        else:\n",
    "            plt.imshow(activation[0,:,:, featuremap], interpolation=\"nearest\", cmap=\"gray\")"
   ]
  },
  {
   "cell_type": "code",
   "execution_count": null,
   "metadata": {},
   "outputs": [],
   "source": [
    "outputFeatureMap('../data/1.jpg', 'relu')"
   ]
  }
 ],
 "metadata": {
  "anaconda-cloud": {},
  "kernelspec": {
   "display_name": "Python 3",
   "language": "python",
   "name": "python3"
  },
  "language_info": {
   "codemirror_mode": {
    "name": "ipython",
    "version": 3
   },
   "file_extension": ".py",
   "mimetype": "text/x-python",
   "name": "python",
   "nbconvert_exporter": "python",
   "pygments_lexer": "ipython3",
   "version": "3.6.3"
  }
 },
 "nbformat": 4,
 "nbformat_minor": 1
}
